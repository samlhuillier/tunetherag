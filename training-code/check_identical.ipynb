{
 "cells": [
  {
   "cell_type": "code",
   "execution_count": 2,
   "metadata": {},
   "outputs": [
    {
     "name": "stdout",
     "output_type": "stream",
     "text": [
      "Are the files identical? False\n"
     ]
    }
   ],
   "source": [
    "import os\n",
    "def check_binary_files_identical(file_path1, file_path2):\n",
    "# Check if the size of both files is the same\n",
    "    if os.path.getsize(file_path1) != os.path.getsize(file_path2):\n",
    "        return False\n",
    "\n",
    "    # Open both files and compare their contents\n",
    "    with open(file_path1, 'rb') as file1, open(file_path2, 'rb') as file2:\n",
    "        while True:\n",
    "            chunk1 = file1.read(8192) # Reading in chunks of 8192 bytes\n",
    "            chunk2 = file2.read(8192)\n",
    "\n",
    "    # If the chunks are different, return False\n",
    "            if chunk1 != chunk2:\n",
    "                return False\n",
    "\n",
    "    # If both chunks are empty, it means we have reached the end of both files and they are identical\n",
    "            if not chunk1:\n",
    "                return True\n",
    " \n",
    "file_path1 = \"/home/sam/finetune-llm-for-rag/training-code/viggo-1-example-openai-embedding-ada-002/checkpoint-470/adapter_model.bin\"\n",
    "file_path2 = \"/home/sam/finetune-llm-for-rag/training-code/viggo-1-example-openai-embedding-ada-002/checkpoint-480/adapter_model.bin\"\n",
    "result = check_binary_files_identical(file_path1, file_path2) \n",
    "print(\"Are the files identical?\", result)"
   ]
  },
  {
   "cell_type": "code",
   "execution_count": null,
   "metadata": {},
   "outputs": [],
   "source": []
  }
 ],
 "metadata": {
  "kernelspec": {
   "display_name": "base",
   "language": "python",
   "name": "python3"
  },
  "language_info": {
   "codemirror_mode": {
    "name": "ipython",
    "version": 3
   },
   "file_extension": ".py",
   "mimetype": "text/x-python",
   "name": "python",
   "nbconvert_exporter": "python",
   "pygments_lexer": "ipython3",
   "version": "3.10.12"
  },
  "orig_nbformat": 4
 },
 "nbformat": 4,
 "nbformat_minor": 2
}
