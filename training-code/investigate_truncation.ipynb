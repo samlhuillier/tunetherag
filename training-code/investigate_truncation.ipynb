{
 "cells": [
  {
   "cell_type": "code",
   "execution_count": 1,
   "metadata": {},
   "outputs": [
    {
     "name": "stdout",
     "output_type": "stream",
     "text": [
      "Downloading and preparing dataset json/default to /home/sam/.cache/huggingface/datasets/json/default-6117d8ab6b5c28c1/0.0.0/0f7e3662623656454fcd2b650f34e886a7db4b9104504885bd462096cc7a9f51...\n"
     ]
    },
    {
     "data": {
      "application/vnd.jupyter.widget-view+json": {
       "model_id": "57fff7f5df5a49a9b529441afa784884",
       "version_major": 2,
       "version_minor": 0
      },
      "text/plain": [
       "Downloading data files:   0%|          | 0/1 [00:00<?, ?it/s]"
      ]
     },
     "metadata": {},
     "output_type": "display_data"
    },
    {
     "data": {
      "application/vnd.jupyter.widget-view+json": {
       "model_id": "416218b3f12d4ecab995db2e63c3e9ea",
       "version_major": 2,
       "version_minor": 0
      },
      "text/plain": [
       "Extracting data files:   0%|          | 0/1 [00:00<?, ?it/s]"
      ]
     },
     "metadata": {},
     "output_type": "display_data"
    },
    {
     "data": {
      "application/vnd.jupyter.widget-view+json": {
       "model_id": "ce6cd1961adc419d96314803d07ecf44",
       "version_major": 2,
       "version_minor": 0
      },
      "text/plain": [
       "Generating train split: 0 examples [00:00, ? examples/s]"
      ]
     },
     "metadata": {},
     "output_type": "display_data"
    },
    {
     "name": "stdout",
     "output_type": "stream",
     "text": [
      "Dataset json downloaded and prepared to /home/sam/.cache/huggingface/datasets/json/default-6117d8ab6b5c28c1/0.0.0/0f7e3662623656454fcd2b650f34e886a7db4b9104504885bd462096cc7a9f51. Subsequent calls will reuse this data.\n",
      "Downloading and preparing dataset json/default to /home/sam/.cache/huggingface/datasets/json/default-647e51c993168936/0.0.0/0f7e3662623656454fcd2b650f34e886a7db4b9104504885bd462096cc7a9f51...\n"
     ]
    },
    {
     "data": {
      "application/vnd.jupyter.widget-view+json": {
       "model_id": "3c7740ad733b431db2a50cf156d1fea1",
       "version_major": 2,
       "version_minor": 0
      },
      "text/plain": [
       "Downloading data files:   0%|          | 0/1 [00:00<?, ?it/s]"
      ]
     },
     "metadata": {},
     "output_type": "display_data"
    },
    {
     "data": {
      "application/vnd.jupyter.widget-view+json": {
       "model_id": "bab63e0796b14f7293ec47641fbc1b98",
       "version_major": 2,
       "version_minor": 0
      },
      "text/plain": [
       "Extracting data files:   0%|          | 0/1 [00:00<?, ?it/s]"
      ]
     },
     "metadata": {},
     "output_type": "display_data"
    },
    {
     "data": {
      "application/vnd.jupyter.widget-view+json": {
       "model_id": "99a7c03ead474fd0a9400185a9562b4b",
       "version_major": 2,
       "version_minor": 0
      },
      "text/plain": [
       "Generating train split: 0 examples [00:00, ? examples/s]"
      ]
     },
     "metadata": {},
     "output_type": "display_data"
    },
    {
     "name": "stdout",
     "output_type": "stream",
     "text": [
      "Dataset json downloaded and prepared to /home/sam/.cache/huggingface/datasets/json/default-647e51c993168936/0.0.0/0f7e3662623656454fcd2b650f34e886a7db4b9104504885bd462096cc7a9f51. Subsequent calls will reuse this data.\n",
      "Dataset({\n",
      "    features: ['db_id', 'context', 'question', 'answer', 'full_prompt', 'inference_prompt'],\n",
      "    num_rows: 3961\n",
      "})\n",
      "Dataset({\n",
      "    features: ['db_id', 'context', 'question', 'answer', 'full_prompt', 'inference_prompt'],\n",
      "    num_rows: 568\n",
      "})\n"
     ]
    }
   ],
   "source": [
    "from datetime import datetime\n",
    "import os\n",
    "import sys\n",
    "\n",
    "import torch\n",
    "from peft import (\n",
    "    LoraConfig,\n",
    "    get_peft_model,\n",
    "    get_peft_model_state_dict,\n",
    "    prepare_model_for_int8_training,\n",
    "    set_peft_model_state_dict,\n",
    ")\n",
    "from transformers import AutoTokenizer, AutoModelForCausalLM, TrainingArguments, Trainer, DataCollatorForSeq2Seq\n",
    "\n",
    "\n",
    "# %% [markdown]\n",
    "# (If you have import errors, try restarting your Jupyter kernel)\n",
    "# \n",
    "\n",
    "# %% [markdown]\n",
    "# ### Load dataset\n",
    "# \n",
    "\n",
    "# %%\n",
    "from datasets import load_dataset\n",
    "from datasets import load_dataset\n",
    "train_dataset = load_dataset('json', data_files='/home/sam/finetune-llm-for-rag/datasets/sql/MiniLM-L6/samlhuillier-sql-create-context-spider-intersect-train-with-1-examples-random-False-emb_fn-default-emb-fn.jsonl', split='train')\n",
    "eval_dataset = load_dataset('json', data_files='/home/sam/finetune-llm-for-rag/datasets/sql/MiniLM-L6/samlhuillier-sql-create-context-spider-intersect-validation-with-1-examples-random-False-emb_fn-default-emb-fn.jsonl', split='train')\n",
    "print(train_dataset)\n",
    "print(eval_dataset)"
   ]
  },
  {
   "cell_type": "code",
   "execution_count": 2,
   "metadata": {},
   "outputs": [
    {
     "name": "stderr",
     "output_type": "stream",
     "text": [
      "Loading the tokenizer from the `special_tokens_map.json` and the `added_tokens.json` will be removed in `transformers 5`,  it is kept for forward compatibility, but it is recommended to update your `tokenizer_config.json` by uploading it again. You will see the new `added_tokens_decoder` attribute that will store the relevant information.\n"
     ]
    }
   ],
   "source": [
    "tokenizer = AutoTokenizer.from_pretrained(\"codellama/CodeLlama-7b-hf\")\n"
   ]
  },
  {
   "cell_type": "code",
   "execution_count": 9,
   "metadata": {},
   "outputs": [],
   "source": [
    "tokenizer.add_eos_token = True\n",
    "tokenizer.pad_token_id = 0\n",
    "tokenizer.padding_side = \"left\"\n",
    "\n",
    "# %% [markdown]\n",
    "# Setup the tokenize function to make labels and input_ids the same. This is basically what [self-supervised fine-tuning](https://neptune.ai/blog/self-supervised-learning) is:\n",
    "\n",
    "# %%\n",
    "def tokenize(prompt):\n",
    "    result = tokenizer(\n",
    "        prompt,\n",
    "        truncation=True,\n",
    "        max_length=700,\n",
    "        padding=False,\n",
    "        return_tensors=None,\n",
    "    )\n",
    "    # print(\"result is: \", result)\n",
    "    print(\"length of input ids: \", len(result[\"input_ids\"]))\n",
    "\n",
    "    # \"self-supervised learning\" means the labels are also the inputs:\n",
    "    result[\"labels\"] = result[\"input_ids\"].copy()\n",
    "\n",
    "    return result\n",
    "\n",
    "# %% [markdown]\n",
    "# And run convert each data_point into a prompt that I found online that works quite well:\n",
    "\n",
    "# %%\n",
    "def generate_and_tokenize_prompt(data_point):\n",
    "    full_prompt = data_point[\"full_prompt\"]\n",
    "    # print(full_prompt)\n",
    "    return tokenize(full_prompt)"
   ]
  },
  {
   "cell_type": "code",
   "execution_count": 11,
   "metadata": {},
   "outputs": [
    {
     "name": "stdout",
     "output_type": "stream",
     "text": [
      "length of input ids:  146\n",
      "length of input ids:  174\n",
      "length of input ids:  190\n",
      "length of input ids:  207\n",
      "length of input ids:  202\n",
      "length of input ids:  168\n",
      "length of input ids:  173\n",
      "length of input ids:  213\n",
      "length of input ids:  201\n",
      "length of input ids:  205\n",
      "length of input ids:  211\n",
      "length of input ids:  198\n",
      "length of input ids:  374\n",
      "length of input ids:  266\n",
      "length of input ids:  314\n",
      "length of input ids:  182\n",
      "length of input ids:  228\n",
      "length of input ids:  215\n",
      "length of input ids:  281\n",
      "length of input ids:  337\n",
      "length of input ids:  235\n",
      "length of input ids:  315\n",
      "length of input ids:  334\n",
      "length of input ids:  267\n",
      "length of input ids:  359\n",
      "length of input ids:  214\n",
      "length of input ids:  179\n",
      "length of input ids:  184\n",
      "length of input ids:  203\n",
      "length of input ids:  325\n",
      "length of input ids:  371\n",
      "length of input ids:  173\n",
      "length of input ids:  356\n",
      "length of input ids:  408\n",
      "length of input ids:  325\n",
      "length of input ids:  365\n",
      "length of input ids:  297\n",
      "length of input ids:  432\n",
      "length of input ids:  191\n",
      "length of input ids:  307\n",
      "length of input ids:  356\n",
      "length of input ids:  192\n",
      "length of input ids:  225\n",
      "length of input ids:  236\n",
      "length of input ids:  205\n",
      "length of input ids:  307\n",
      "length of input ids:  316\n",
      "length of input ids:  361\n",
      "length of input ids:  317\n",
      "length of input ids:  155\n",
      "length of input ids:  229\n",
      "length of input ids:  150\n",
      "length of input ids:  315\n",
      "length of input ids:  263\n",
      "length of input ids:  266\n",
      "length of input ids:  382\n",
      "length of input ids:  327\n",
      "length of input ids:  304\n",
      "length of input ids:  276\n",
      "length of input ids:  240\n",
      "length of input ids:  275\n",
      "length of input ids:  243\n",
      "length of input ids:  259\n",
      "length of input ids:  213\n",
      "length of input ids:  249\n",
      "length of input ids:  204\n",
      "length of input ids:  213\n",
      "length of input ids:  211\n",
      "length of input ids:  230\n",
      "length of input ids:  181\n",
      "length of input ids:  179\n",
      "length of input ids:  336\n",
      "length of input ids:  255\n",
      "length of input ids:  226\n",
      "length of input ids:  223\n",
      "length of input ids:  298\n",
      "length of input ids:  259\n",
      "length of input ids:  241\n",
      "length of input ids:  205\n",
      "length of input ids:  218\n",
      "length of input ids:  177\n",
      "length of input ids:  174\n",
      "length of input ids:  224\n",
      "length of input ids:  281\n",
      "length of input ids:  373\n",
      "length of input ids:  193\n",
      "length of input ids:  280\n",
      "length of input ids:  251\n",
      "length of input ids:  309\n",
      "length of input ids:  203\n",
      "length of input ids:  176\n",
      "length of input ids:  245\n",
      "length of input ids:  298\n",
      "length of input ids:  283\n",
      "length of input ids:  203\n",
      "length of input ids:  390\n",
      "length of input ids:  278\n",
      "length of input ids:  344\n",
      "length of input ids:  343\n",
      "length of input ids:  412\n",
      "length of input ids:  397\n",
      "length of input ids:  194\n",
      "length of input ids:  183\n",
      "length of input ids:  209\n",
      "length of input ids:  216\n",
      "length of input ids:  153\n",
      "length of input ids:  157\n",
      "length of input ids:  178\n",
      "length of input ids:  153\n",
      "length of input ids:  168\n",
      "length of input ids:  178\n",
      "length of input ids:  164\n",
      "length of input ids:  198\n",
      "length of input ids:  191\n",
      "length of input ids:  307\n",
      "length of input ids:  175\n",
      "length of input ids:  184\n",
      "length of input ids:  222\n",
      "length of input ids:  223\n",
      "length of input ids:  290\n",
      "length of input ids:  222\n",
      "length of input ids:  245\n",
      "length of input ids:  244\n",
      "length of input ids:  283\n",
      "length of input ids:  235\n",
      "length of input ids:  234\n",
      "length of input ids:  342\n",
      "length of input ids:  341\n",
      "length of input ids:  238\n",
      "length of input ids:  258\n",
      "length of input ids:  236\n",
      "length of input ids:  236\n",
      "length of input ids:  311\n",
      "length of input ids:  368\n",
      "length of input ids:  300\n",
      "length of input ids:  231\n",
      "length of input ids:  231\n",
      "length of input ids:  189\n",
      "length of input ids:  271\n",
      "length of input ids:  324\n",
      "length of input ids:  288\n",
      "length of input ids:  321\n",
      "length of input ids:  242\n",
      "length of input ids:  144\n",
      "length of input ids:  143\n",
      "length of input ids:  270\n",
      "length of input ids:  170\n",
      "length of input ids:  193\n",
      "length of input ids:  269\n",
      "length of input ids:  274\n",
      "length of input ids:  276\n",
      "length of input ids:  218\n",
      "length of input ids:  236\n",
      "length of input ids:  271\n",
      "length of input ids:  268\n",
      "length of input ids:  219\n",
      "length of input ids:  236\n",
      "length of input ids:  222\n",
      "length of input ids:  304\n",
      "length of input ids:  169\n",
      "length of input ids:  230\n",
      "length of input ids:  300\n",
      "length of input ids:  153\n",
      "length of input ids:  159\n",
      "length of input ids:  195\n",
      "length of input ids:  254\n",
      "length of input ids:  212\n",
      "length of input ids:  187\n",
      "length of input ids:  244\n",
      "length of input ids:  181\n",
      "length of input ids:  259\n",
      "length of input ids:  195\n",
      "length of input ids:  242\n",
      "length of input ids:  176\n",
      "length of input ids:  233\n",
      "length of input ids:  191\n",
      "length of input ids:  232\n",
      "length of input ids:  194\n",
      "length of input ids:  204\n",
      "length of input ids:  221\n",
      "length of input ids:  202\n",
      "length of input ids:  204\n",
      "length of input ids:  202\n",
      "length of input ids:  269\n",
      "length of input ids:  264\n",
      "length of input ids:  244\n",
      "length of input ids:  250\n",
      "length of input ids:  268\n",
      "length of input ids:  227\n",
      "length of input ids:  241\n",
      "length of input ids:  240\n",
      "length of input ids:  298\n",
      "length of input ids:  276\n",
      "length of input ids:  150\n",
      "length of input ids:  285\n",
      "length of input ids:  183\n",
      "length of input ids:  256\n",
      "length of input ids:  283\n",
      "length of input ids:  195\n",
      "length of input ids:  241\n",
      "length of input ids:  187\n",
      "length of input ids:  297\n",
      "length of input ids:  194\n",
      "length of input ids:  245\n",
      "length of input ids:  219\n",
      "length of input ids:  143\n",
      "length of input ids:  188\n",
      "length of input ids:  241\n",
      "length of input ids:  330\n",
      "length of input ids:  194\n",
      "length of input ids:  187\n",
      "length of input ids:  182\n",
      "length of input ids:  179\n",
      "length of input ids:  174\n",
      "length of input ids:  270\n",
      "length of input ids:  303\n",
      "length of input ids:  335\n",
      "length of input ids:  288\n",
      "length of input ids:  292\n",
      "length of input ids:  225\n",
      "length of input ids:  174\n",
      "length of input ids:  216\n",
      "length of input ids:  189\n",
      "length of input ids:  218\n",
      "length of input ids:  289\n",
      "length of input ids:  253\n",
      "length of input ids:  287\n",
      "length of input ids:  279\n",
      "length of input ids:  345\n",
      "length of input ids:  364\n",
      "length of input ids:  327\n",
      "length of input ids:  298\n",
      "length of input ids:  270\n",
      "length of input ids:  205\n",
      "length of input ids:  325\n",
      "length of input ids:  443\n",
      "length of input ids:  283\n",
      "length of input ids:  282\n",
      "length of input ids:  165\n",
      "length of input ids:  143\n",
      "length of input ids:  160\n",
      "length of input ids:  240\n",
      "length of input ids:  195\n",
      "length of input ids:  242\n",
      "length of input ids:  241\n",
      "length of input ids:  215\n",
      "length of input ids:  238\n",
      "length of input ids:  190\n",
      "length of input ids:  298\n",
      "length of input ids:  203\n",
      "length of input ids:  385\n",
      "length of input ids:  189\n",
      "length of input ids:  264\n",
      "length of input ids:  210\n",
      "length of input ids:  288\n",
      "length of input ids:  177\n",
      "length of input ids:  266\n",
      "length of input ids:  278\n",
      "length of input ids:  198\n",
      "length of input ids:  242\n",
      "length of input ids:  244\n",
      "length of input ids:  216\n",
      "length of input ids:  225\n",
      "length of input ids:  227\n",
      "length of input ids:  214\n",
      "length of input ids:  172\n",
      "length of input ids:  201\n",
      "length of input ids:  276\n",
      "length of input ids:  338\n",
      "length of input ids:  174\n",
      "length of input ids:  166\n",
      "length of input ids:  188\n",
      "length of input ids:  254\n",
      "length of input ids:  241\n",
      "length of input ids:  179\n",
      "length of input ids:  248\n",
      "length of input ids:  274\n",
      "length of input ids:  285\n",
      "length of input ids:  300\n",
      "length of input ids:  270\n",
      "length of input ids:  310\n",
      "length of input ids:  172\n",
      "length of input ids:  216\n",
      "length of input ids:  354\n",
      "length of input ids:  359\n",
      "length of input ids:  159\n",
      "length of input ids:  273\n",
      "length of input ids:  155\n",
      "length of input ids:  151\n",
      "length of input ids:  185\n",
      "length of input ids:  261\n",
      "length of input ids:  358\n",
      "length of input ids:  354\n",
      "length of input ids:  177\n",
      "length of input ids:  195\n",
      "length of input ids:  229\n",
      "length of input ids:  236\n",
      "length of input ids:  246\n",
      "length of input ids:  170\n",
      "length of input ids:  312\n",
      "length of input ids:  289\n",
      "length of input ids:  368\n",
      "length of input ids:  378\n",
      "length of input ids:  408\n",
      "length of input ids:  365\n",
      "length of input ids:  388\n",
      "length of input ids:  258\n",
      "length of input ids:  305\n",
      "length of input ids:  316\n",
      "length of input ids:  406\n",
      "length of input ids:  334\n",
      "length of input ids:  230\n",
      "length of input ids:  221\n",
      "length of input ids:  214\n",
      "length of input ids:  205\n",
      "length of input ids:  227\n",
      "length of input ids:  337\n",
      "length of input ids:  324\n",
      "length of input ids:  197\n",
      "length of input ids:  168\n",
      "length of input ids:  182\n",
      "length of input ids:  280\n",
      "length of input ids:  265\n",
      "length of input ids:  388\n",
      "length of input ids:  244\n",
      "length of input ids:  205\n",
      "length of input ids:  235\n",
      "length of input ids:  300\n",
      "length of input ids:  166\n",
      "length of input ids:  189\n",
      "length of input ids:  171\n",
      "length of input ids:  212\n",
      "length of input ids:  198\n",
      "length of input ids:  206\n",
      "length of input ids:  201\n",
      "length of input ids:  207\n",
      "length of input ids:  212\n",
      "length of input ids:  173\n",
      "length of input ids:  206\n",
      "length of input ids:  192\n",
      "length of input ids:  266\n",
      "length of input ids:  335\n",
      "length of input ids:  183\n",
      "length of input ids:  257\n",
      "length of input ids:  228\n",
      "length of input ids:  283\n",
      "length of input ids:  213\n",
      "length of input ids:  298\n",
      "length of input ids:  286\n",
      "length of input ids:  192\n",
      "length of input ids:  243\n",
      "length of input ids:  215\n",
      "length of input ids:  273\n",
      "length of input ids:  246\n",
      "length of input ids:  310\n",
      "length of input ids:  217\n",
      "length of input ids:  193\n",
      "length of input ids:  223\n",
      "length of input ids:  239\n",
      "length of input ids:  151\n",
      "length of input ids:  183\n",
      "length of input ids:  210\n",
      "length of input ids:  248\n",
      "length of input ids:  217\n",
      "length of input ids:  245\n",
      "length of input ids:  265\n",
      "length of input ids:  268\n",
      "length of input ids:  241\n",
      "length of input ids:  359\n",
      "length of input ids:  235\n",
      "length of input ids:  239\n",
      "length of input ids:  253\n",
      "length of input ids:  181\n",
      "length of input ids:  183\n",
      "length of input ids:  185\n",
      "length of input ids:  195\n",
      "length of input ids:  194\n",
      "length of input ids:  297\n",
      "length of input ids:  170\n",
      "length of input ids:  165\n",
      "length of input ids:  198\n",
      "length of input ids:  185\n",
      "length of input ids:  193\n",
      "length of input ids:  182\n",
      "length of input ids:  229\n",
      "length of input ids:  173\n",
      "length of input ids:  313\n",
      "length of input ids:  270\n",
      "length of input ids:  186\n",
      "length of input ids:  219\n",
      "length of input ids:  236\n",
      "length of input ids:  280\n",
      "length of input ids:  473\n",
      "length of input ids:  185\n",
      "length of input ids:  172\n",
      "length of input ids:  164\n",
      "length of input ids:  175\n",
      "length of input ids:  182\n",
      "length of input ids:  253\n",
      "length of input ids:  224\n",
      "length of input ids:  196\n",
      "length of input ids:  187\n",
      "length of input ids:  186\n",
      "length of input ids:  198\n",
      "length of input ids:  204\n",
      "length of input ids:  262\n",
      "length of input ids:  205\n",
      "length of input ids:  189\n",
      "length of input ids:  191\n",
      "length of input ids:  171\n",
      "length of input ids:  172\n",
      "length of input ids:  225\n",
      "length of input ids:  286\n",
      "length of input ids:  204\n",
      "length of input ids:  290\n",
      "length of input ids:  337\n",
      "length of input ids:  262\n",
      "length of input ids:  296\n",
      "length of input ids:  203\n",
      "length of input ids:  303\n",
      "length of input ids:  355\n",
      "length of input ids:  344\n",
      "length of input ids:  233\n",
      "length of input ids:  239\n",
      "length of input ids:  262\n",
      "length of input ids:  219\n",
      "length of input ids:  271\n",
      "length of input ids:  290\n",
      "length of input ids:  319\n",
      "length of input ids:  233\n",
      "length of input ids:  211\n",
      "length of input ids:  199\n",
      "length of input ids:  198\n",
      "length of input ids:  215\n",
      "length of input ids:  200\n",
      "length of input ids:  197\n",
      "length of input ids:  191\n",
      "length of input ids:  238\n",
      "length of input ids:  314\n",
      "length of input ids:  323\n",
      "length of input ids:  289\n",
      "length of input ids:  201\n",
      "length of input ids:  204\n",
      "length of input ids:  240\n",
      "length of input ids:  232\n",
      "length of input ids:  235\n",
      "length of input ids:  244\n",
      "length of input ids:  232\n",
      "length of input ids:  178\n",
      "length of input ids:  179\n",
      "length of input ids:  156\n",
      "length of input ids:  227\n",
      "length of input ids:  228\n",
      "length of input ids:  254\n",
      "length of input ids:  226\n",
      "length of input ids:  172\n",
      "length of input ids:  187\n",
      "length of input ids:  195\n",
      "length of input ids:  223\n",
      "length of input ids:  147\n",
      "length of input ids:  173\n",
      "length of input ids:  185\n",
      "length of input ids:  291\n",
      "length of input ids:  183\n",
      "length of input ids:  179\n",
      "length of input ids:  174\n",
      "length of input ids:  284\n",
      "length of input ids:  188\n",
      "length of input ids:  330\n",
      "length of input ids:  339\n",
      "length of input ids:  340\n",
      "length of input ids:  340\n",
      "length of input ids:  185\n",
      "length of input ids:  291\n",
      "length of input ids:  246\n",
      "length of input ids:  219\n",
      "length of input ids:  247\n",
      "length of input ids:  280\n",
      "length of input ids:  329\n",
      "length of input ids:  149\n",
      "length of input ids:  171\n",
      "length of input ids:  161\n",
      "length of input ids:  181\n",
      "length of input ids:  175\n",
      "length of input ids:  177\n",
      "length of input ids:  170\n",
      "length of input ids:  167\n",
      "length of input ids:  221\n",
      "length of input ids:  188\n",
      "length of input ids:  228\n",
      "length of input ids:  216\n",
      "length of input ids:  345\n",
      "length of input ids:  279\n",
      "length of input ids:  254\n",
      "length of input ids:  250\n",
      "length of input ids:  215\n",
      "length of input ids:  279\n",
      "length of input ids:  209\n",
      "length of input ids:  321\n",
      "length of input ids:  164\n",
      "length of input ids:  222\n",
      "length of input ids:  273\n",
      "length of input ids:  223\n",
      "length of input ids:  238\n",
      "length of input ids:  249\n",
      "length of input ids:  339\n",
      "length of input ids:  286\n",
      "length of input ids:  267\n",
      "length of input ids:  204\n",
      "length of input ids:  378\n",
      "length of input ids:  373\n",
      "length of input ids:  242\n",
      "length of input ids:  318\n",
      "length of input ids:  357\n",
      "length of input ids:  292\n",
      "length of input ids:  276\n",
      "length of input ids:  299\n",
      "length of input ids:  285\n",
      "length of input ids:  381\n",
      "length of input ids:  300\n",
      "length of input ids:  340\n",
      "length of input ids:  274\n",
      "length of input ids:  261\n",
      "length of input ids:  291\n",
      "length of input ids:  270\n",
      "length of input ids:  299\n",
      "length of input ids:  321\n",
      "length of input ids:  257\n",
      "length of input ids:  274\n",
      "length of input ids:  284\n",
      "length of input ids:  265\n",
      "length of input ids:  183\n",
      "length of input ids:  185\n",
      "length of input ids:  271\n",
      "length of input ids:  284\n",
      "length of input ids:  243\n",
      "length of input ids:  287\n",
      "length of input ids:  203\n",
      "length of input ids:  203\n",
      "length of input ids:  223\n",
      "length of input ids:  244\n",
      "length of input ids:  245\n",
      "length of input ids:  162\n",
      "length of input ids:  182\n",
      "length of input ids:  211\n",
      "length of input ids:  186\n",
      "length of input ids:  273\n",
      "length of input ids:  191\n",
      "length of input ids:  332\n",
      "length of input ids:  195\n",
      "length of input ids:  201\n",
      "length of input ids:  266\n",
      "length of input ids:  218\n",
      "length of input ids:  265\n",
      "length of input ids:  191\n",
      "length of input ids:  253\n",
      "length of input ids:  208\n",
      "length of input ids:  209\n",
      "length of input ids:  278\n",
      "length of input ids:  302\n",
      "length of input ids:  286\n",
      "length of input ids:  308\n",
      "length of input ids:  256\n",
      "length of input ids:  240\n",
      "length of input ids:  156\n",
      "length of input ids:  265\n",
      "length of input ids:  276\n",
      "length of input ids:  256\n",
      "max_len_input:  473\n"
     ]
    }
   ],
   "source": [
    "# tokenized_train_dataset = train_dataset.map(generate_and_tokenize_prompt)\n",
    "max_len_input = 0\n",
    "for data_point in eval_dataset:\n",
    "    tokenized = generate_and_tokenize_prompt(data_point)\n",
    "    length_of_input_ids = len(tokenized[\"input_ids\"])\n",
    "    if length_of_input_ids > max_len_input:\n",
    "        max_len_input = length_of_input_ids\n",
    "    # break\n",
    "print(\"max_len_input: \", max_len_input)\n",
    "\n",
    "# tokenized_val_dataset = eval_dataset.map(generate_and_tokenize_prompt)"
   ]
  },
  {
   "cell_type": "code",
   "execution_count": 22,
   "metadata": {},
   "outputs": [
    {
     "name": "stderr",
     "output_type": "stream",
     "text": [
      "The model weights are not tied. Please use the `tie_weights` method before using the `infer_auto_device` function.\n"
     ]
    },
    {
     "data": {
      "application/vnd.jupyter.widget-view+json": {
       "model_id": "7ae40aed013146bc883465656cb8aded",
       "version_major": 2,
       "version_minor": 0
      },
      "text/plain": [
       "Loading checkpoint shards:   0%|          | 0/2 [00:00<?, ?it/s]"
      ]
     },
     "metadata": {},
     "output_type": "display_data"
    }
   ],
   "source": [
    "from transformers import AutoModelForCausalLM, AutoTokenizer\n",
    "import torch\n",
    "tokenizer = AutoTokenizer.from_pretrained(\"codellama/CodeLlama-7b-hf\")\n",
    "base_model = \"codellama/CodeLlama-7b-hf\"\n",
    "model = AutoModelForCausalLM.from_pretrained(\n",
    "    base_model,\n",
    "    load_in_8bit=True,\n",
    "    torch_dtype=torch.float16,\n",
    "    device_map=\"auto\",\n",
    ")\n",
    "# Add EOS token and padding configurations\n",
    "tokenizer.add_eos_token = True\n",
    "tokenizer.pad_token_id = 0\n",
    "tokenizer.padding_side = \"left\"\n",
    "\n",
    "# Initialize variables\n",
    "\n"
   ]
  },
  {
   "cell_type": "code",
   "execution_count": 14,
   "metadata": {},
   "outputs": [
    {
     "name": "stdout",
     "output_type": "stream",
     "text": [
      "<s>\n",
      "</s>\n"
     ]
    }
   ],
   "source": [
    "print(tokenizer.bos_token)\n",
    "print(tokenizer.eos_token)"
   ]
  },
  {
   "cell_type": "code",
   "execution_count": 15,
   "metadata": {},
   "outputs": [],
   "source": [
    "def tokenize(prompt):\n",
    "    result = tokenizer(\n",
    "        prompt,\n",
    "        truncation=True,\n",
    "        max_length=512,\n",
    "        padding=True,\n",
    "        return_tensors=None,\n",
    "    )\n",
    "\n",
    "    # \"self-supervised learning\" means the labels are also the inputs:\n",
    "    result[\"labels\"] = result[\"input_ids\"].copy()\n",
    "\n",
    "    return result"
   ]
  },
  {
   "cell_type": "code",
   "execution_count": 26,
   "metadata": {},
   "outputs": [
    {
     "name": "stdout",
     "output_type": "stream",
     "text": [
      "Tokenized IDs: [1, 15043, 872, 566, 2]\n",
      "Pad Token ID: 0\n",
      "length of input ids:  5\n",
      "Pad token ID is not present in the tokenized sequence.\n"
     ]
    }
   ],
   "source": [
    "tokenizer.add_eos_token = True\n",
    "tokenizer.pad_token_id = 0\n",
    "tokenizer.padding_side = \"left\"\n",
    "\n",
    "# Tokenize a short prompt with padding and max_length set to 10\n",
    "prompt = \"Hello saudfjapwejsdjfioap  osdifwe89jaf asoidfa ssa p apfsdj oeia spda p apapap aifoias dfda ddoao sss aaooa \"\n",
    "result = tokenizer(\n",
    "    prompt,\n",
    "    truncation=True,\n",
    "    max_length=5,\n",
    "    padding=True,\n",
    "    return_tensors=None,\n",
    ")\n",
    "\n",
    "# Display the tokenized IDs and check for padding token ID\n",
    "print(\"Tokenized IDs:\", result['input_ids'])\n",
    "print(\"Pad Token ID:\", tokenizer.pad_token_id)\n",
    "print(\"length of input ids: \", len(result[\"input_ids\"]))\n",
    "# Check if pad token ID is present in the tokenized sequence\n",
    "if tokenizer.pad_token_id in result['input_ids']:\n",
    "    print(\"Pad token ID is present in the tokenized sequence.\")\n",
    "else:\n",
    "    print(\"Pad token ID is not present in the tokenized sequence.\")"
   ]
  },
  {
   "cell_type": "code",
   "execution_count": 16,
   "metadata": {},
   "outputs": [
    {
     "name": "stdout",
     "output_type": "stream",
     "text": [
      "{'input_ids': [1, 22172, 15358, 2], 'attention_mask': [1, 1, 1, 1], 'labels': [1, 22172, 15358, 2]}\n"
     ]
    }
   ],
   "source": [
    "tokenized_text = tokenize(\"hello mate\")\n",
    "print(tokenized_text)"
   ]
  },
  {
   "cell_type": "code",
   "execution_count": 7,
   "metadata": {},
   "outputs": [
    {
     "name": "stdout",
     "output_type": "stream",
     "text": [
      "{'input_ids': tensor([[    1, 22172, 15358,     2]]), 'attention_mask': tensor([[1, 1, 1, 1]])}\n"
     ]
    }
   ],
   "source": [
    "# Sam's manual tests. We want to just investigate the different properties of tokenizers and what they do.\n",
    "tokenized_text = tokenizer(\"hello mate\", return_tensors=\"pt\") # , padding='max_length', max_length=max_input_tokens+10\n",
    "print(tokenized_text)"
   ]
  },
  {
   "cell_type": "code",
   "execution_count": 4,
   "metadata": {},
   "outputs": [
    {
     "data": {
      "application/vnd.jupyter.widget-view+json": {
       "model_id": "d5a418c719b9453481c71cf844b8fe90",
       "version_major": 2,
       "version_minor": 0
      },
      "text/plain": [
       "Downloading (…)lve/main/config.json:   0%|          | 0.00/609 [00:00<?, ?B/s]"
      ]
     },
     "metadata": {},
     "output_type": "display_data"
    },
    {
     "data": {
      "application/vnd.jupyter.widget-view+json": {
       "model_id": "f1e2e82ea175448ea0c032612877bb6e",
       "version_major": 2,
       "version_minor": 0
      },
      "text/plain": [
       "Downloading (…)fetensors.index.json:   0%|          | 0.00/26.8k [00:00<?, ?B/s]"
      ]
     },
     "metadata": {},
     "output_type": "display_data"
    },
    {
     "data": {
      "application/vnd.jupyter.widget-view+json": {
       "model_id": "d6c1eca6bece47eb92deadc215c19b56",
       "version_major": 2,
       "version_minor": 0
      },
      "text/plain": [
       "Downloading shards:   0%|          | 0/2 [00:00<?, ?it/s]"
      ]
     },
     "metadata": {},
     "output_type": "display_data"
    },
    {
     "data": {
      "application/vnd.jupyter.widget-view+json": {
       "model_id": "e364b8c57b874d9bbf4a150fdd55cd03",
       "version_major": 2,
       "version_minor": 0
      },
      "text/plain": [
       "Downloading (…)of-00002.safetensors:   0%|          | 0.00/9.98G [00:00<?, ?B/s]"
      ]
     },
     "metadata": {},
     "output_type": "display_data"
    },
    {
     "data": {
      "application/vnd.jupyter.widget-view+json": {
       "model_id": "6c50f111a6d3412c812bf11cae9bf1a0",
       "version_major": 2,
       "version_minor": 0
      },
      "text/plain": [
       "Downloading (…)of-00002.safetensors:   0%|          | 0.00/3.50G [00:00<?, ?B/s]"
      ]
     },
     "metadata": {},
     "output_type": "display_data"
    },
    {
     "name": "stderr",
     "output_type": "stream",
     "text": [
      "The model weights are not tied. Please use the `tie_weights` method before using the `infer_auto_device` function.\n"
     ]
    },
    {
     "data": {
      "application/vnd.jupyter.widget-view+json": {
       "model_id": "37c448724a6142d282a637f32c2a47c9",
       "version_major": 2,
       "version_minor": 0
      },
      "text/plain": [
       "Loading checkpoint shards:   0%|          | 0/2 [00:00<?, ?it/s]"
      ]
     },
     "metadata": {},
     "output_type": "display_data"
    },
    {
     "data": {
      "application/vnd.jupyter.widget-view+json": {
       "model_id": "9639a70cfabc4571bc91ab0fa9e59bef",
       "version_major": 2,
       "version_minor": 0
      },
      "text/plain": [
       "Downloading (…)neration_config.json:   0%|          | 0.00/188 [00:00<?, ?B/s]"
      ]
     },
     "metadata": {},
     "output_type": "display_data"
    }
   ],
   "source": [
    "base_model = \"meta-llama/Llama-2-7b-hf\"\n",
    "model = AutoModelForCausalLM.from_pretrained(\n",
    "    base_model,\n",
    "    load_in_8bit=True,\n",
    "    torch_dtype=torch.float16,\n",
    "    device_map=\"auto\",\n",
    ")"
   ]
  },
  {
   "cell_type": "code",
   "execution_count": 5,
   "metadata": {},
   "outputs": [
    {
     "name": "stdout",
     "output_type": "stream",
     "text": [
      "input tokens:  1003\n",
      "input tokens:  1333\n",
      "input tokens:  1663\n",
      "input tokens:  1993\n",
      "input tokens:  2323\n",
      "input tokens:  2653\n",
      "input tokens:  2983\n",
      "input tokens:  3313\n",
      "input tokens:  3643\n",
      "input tokens:  3973\n",
      "input tokens:  4303\n"
     ]
    },
    {
     "name": "stderr",
     "output_type": "stream",
     "text": [
      "This is a friendly reminder - the current text generation call will exceed the model's predefined maximum length (4096). Depending on the model, you may observe exceptions, performance degradation, or nothing at all.\n"
     ]
    },
    {
     "name": "stdout",
     "output_type": "stream",
     "text": [
      "input tokens:  4633\n",
      "input tokens:  4963\n",
      "input tokens:  5293\n",
      "input tokens:  5623\n",
      "input tokens:  5953\n"
     ]
    },
    {
     "ename": "KeyboardInterrupt",
     "evalue": "",
     "output_type": "error",
     "traceback": [
      "\u001b[0;31m---------------------------------------------------------------------------\u001b[0m",
      "\u001b[0;31mKeyboardInterrupt\u001b[0m                         Traceback (most recent call last)",
      "\u001b[1;32m/root/finetune-llm-for-rag/training-code/investigate_truncation.ipynb Cell 12\u001b[0m line \u001b[0;36m1\n\u001b[1;32m     <a href='vscode-notebook-cell://ssh-remote%2Bvast/root/finetune-llm-for-rag/training-code/investigate_truncation.ipynb#W5sdnNjb2RlLXJlbW90ZQ%3D%3D?line=15'>16</a>\u001b[0m \u001b[39mif\u001b[39;00m input_tokens \u001b[39m>\u001b[39m max_input_tokens:\n\u001b[1;32m     <a href='vscode-notebook-cell://ssh-remote%2Bvast/root/finetune-llm-for-rag/training-code/investigate_truncation.ipynb#W5sdnNjb2RlLXJlbW90ZQ%3D%3D?line=16'>17</a>\u001b[0m     max_input_tokens \u001b[39m=\u001b[39m input_tokens\n\u001b[0;32m---> <a href='vscode-notebook-cell://ssh-remote%2Bvast/root/finetune-llm-for-rag/training-code/investigate_truncation.ipynb#W5sdnNjb2RlLXJlbW90ZQ%3D%3D?line=18'>19</a>\u001b[0m output \u001b[39m=\u001b[39m model\u001b[39m.\u001b[39;49mgenerate(\u001b[39m*\u001b[39;49m\u001b[39m*\u001b[39;49mbatch_model_inputs, max_new_tokens\u001b[39m=\u001b[39;49mmax_new_tokens)\n\u001b[1;32m     <a href='vscode-notebook-cell://ssh-remote%2Bvast/root/finetune-llm-for-rag/training-code/investigate_truncation.ipynb#W5sdnNjb2RlLXJlbW90ZQ%3D%3D?line=19'>20</a>\u001b[0m output_tokens \u001b[39m=\u001b[39m output\u001b[39m.\u001b[39mshape[\u001b[39m1\u001b[39m]\n\u001b[1;32m     <a href='vscode-notebook-cell://ssh-remote%2Bvast/root/finetune-llm-for-rag/training-code/investigate_truncation.ipynb#W5sdnNjb2RlLXJlbW90ZQ%3D%3D?line=20'>21</a>\u001b[0m \u001b[39m# Check if the last tokens of the input are present in the output\u001b[39;00m\n",
      "File \u001b[0;32m/opt/conda/lib/python3.10/site-packages/torch/utils/_contextlib.py:115\u001b[0m, in \u001b[0;36mcontext_decorator.<locals>.decorate_context\u001b[0;34m(*args, **kwargs)\u001b[0m\n\u001b[1;32m    112\u001b[0m \u001b[39m@functools\u001b[39m\u001b[39m.\u001b[39mwraps(func)\n\u001b[1;32m    113\u001b[0m \u001b[39mdef\u001b[39;00m \u001b[39mdecorate_context\u001b[39m(\u001b[39m*\u001b[39margs, \u001b[39m*\u001b[39m\u001b[39m*\u001b[39mkwargs):\n\u001b[1;32m    114\u001b[0m     \u001b[39mwith\u001b[39;00m ctx_factory():\n\u001b[0;32m--> 115\u001b[0m         \u001b[39mreturn\u001b[39;00m func(\u001b[39m*\u001b[39;49margs, \u001b[39m*\u001b[39;49m\u001b[39m*\u001b[39;49mkwargs)\n",
      "File \u001b[0;32m/opt/conda/lib/python3.10/site-packages/transformers/generation/utils.py:1652\u001b[0m, in \u001b[0;36mGenerationMixin.generate\u001b[0;34m(self, inputs, generation_config, logits_processor, stopping_criteria, prefix_allowed_tokens_fn, synced_gpus, assistant_model, streamer, negative_prompt_ids, negative_prompt_attention_mask, **kwargs)\u001b[0m\n\u001b[1;32m   1644\u001b[0m     input_ids, model_kwargs \u001b[39m=\u001b[39m \u001b[39mself\u001b[39m\u001b[39m.\u001b[39m_expand_inputs_for_generation(\n\u001b[1;32m   1645\u001b[0m         input_ids\u001b[39m=\u001b[39minput_ids,\n\u001b[1;32m   1646\u001b[0m         expand_size\u001b[39m=\u001b[39mgeneration_config\u001b[39m.\u001b[39mnum_return_sequences,\n\u001b[1;32m   1647\u001b[0m         is_encoder_decoder\u001b[39m=\u001b[39m\u001b[39mself\u001b[39m\u001b[39m.\u001b[39mconfig\u001b[39m.\u001b[39mis_encoder_decoder,\n\u001b[1;32m   1648\u001b[0m         \u001b[39m*\u001b[39m\u001b[39m*\u001b[39mmodel_kwargs,\n\u001b[1;32m   1649\u001b[0m     )\n\u001b[1;32m   1651\u001b[0m     \u001b[39m# 13. run sample\u001b[39;00m\n\u001b[0;32m-> 1652\u001b[0m     \u001b[39mreturn\u001b[39;00m \u001b[39mself\u001b[39;49m\u001b[39m.\u001b[39;49msample(\n\u001b[1;32m   1653\u001b[0m         input_ids,\n\u001b[1;32m   1654\u001b[0m         logits_processor\u001b[39m=\u001b[39;49mlogits_processor,\n\u001b[1;32m   1655\u001b[0m         logits_warper\u001b[39m=\u001b[39;49mlogits_warper,\n\u001b[1;32m   1656\u001b[0m         stopping_criteria\u001b[39m=\u001b[39;49mstopping_criteria,\n\u001b[1;32m   1657\u001b[0m         pad_token_id\u001b[39m=\u001b[39;49mgeneration_config\u001b[39m.\u001b[39;49mpad_token_id,\n\u001b[1;32m   1658\u001b[0m         eos_token_id\u001b[39m=\u001b[39;49mgeneration_config\u001b[39m.\u001b[39;49meos_token_id,\n\u001b[1;32m   1659\u001b[0m         output_scores\u001b[39m=\u001b[39;49mgeneration_config\u001b[39m.\u001b[39;49moutput_scores,\n\u001b[1;32m   1660\u001b[0m         return_dict_in_generate\u001b[39m=\u001b[39;49mgeneration_config\u001b[39m.\u001b[39;49mreturn_dict_in_generate,\n\u001b[1;32m   1661\u001b[0m         synced_gpus\u001b[39m=\u001b[39;49msynced_gpus,\n\u001b[1;32m   1662\u001b[0m         streamer\u001b[39m=\u001b[39;49mstreamer,\n\u001b[1;32m   1663\u001b[0m         \u001b[39m*\u001b[39;49m\u001b[39m*\u001b[39;49mmodel_kwargs,\n\u001b[1;32m   1664\u001b[0m     )\n\u001b[1;32m   1666\u001b[0m \u001b[39melif\u001b[39;00m generation_mode \u001b[39m==\u001b[39m GenerationMode\u001b[39m.\u001b[39mBEAM_SEARCH:\n\u001b[1;32m   1667\u001b[0m     \u001b[39m# 11. prepare beam search scorer\u001b[39;00m\n\u001b[1;32m   1668\u001b[0m     beam_scorer \u001b[39m=\u001b[39m BeamSearchScorer(\n\u001b[1;32m   1669\u001b[0m         batch_size\u001b[39m=\u001b[39mbatch_size,\n\u001b[1;32m   1670\u001b[0m         num_beams\u001b[39m=\u001b[39mgeneration_config\u001b[39m.\u001b[39mnum_beams,\n\u001b[0;32m   (...)\u001b[0m\n\u001b[1;32m   1675\u001b[0m         max_length\u001b[39m=\u001b[39mgeneration_config\u001b[39m.\u001b[39mmax_length,\n\u001b[1;32m   1676\u001b[0m     )\n",
      "File \u001b[0;32m/opt/conda/lib/python3.10/site-packages/transformers/generation/utils.py:2734\u001b[0m, in \u001b[0;36mGenerationMixin.sample\u001b[0;34m(self, input_ids, logits_processor, stopping_criteria, logits_warper, max_length, pad_token_id, eos_token_id, output_attentions, output_hidden_states, output_scores, return_dict_in_generate, synced_gpus, streamer, **model_kwargs)\u001b[0m\n\u001b[1;32m   2731\u001b[0m model_inputs \u001b[39m=\u001b[39m \u001b[39mself\u001b[39m\u001b[39m.\u001b[39mprepare_inputs_for_generation(input_ids, \u001b[39m*\u001b[39m\u001b[39m*\u001b[39mmodel_kwargs)\n\u001b[1;32m   2733\u001b[0m \u001b[39m# forward pass to get next token\u001b[39;00m\n\u001b[0;32m-> 2734\u001b[0m outputs \u001b[39m=\u001b[39m \u001b[39mself\u001b[39;49m(\n\u001b[1;32m   2735\u001b[0m     \u001b[39m*\u001b[39;49m\u001b[39m*\u001b[39;49mmodel_inputs,\n\u001b[1;32m   2736\u001b[0m     return_dict\u001b[39m=\u001b[39;49m\u001b[39mTrue\u001b[39;49;00m,\n\u001b[1;32m   2737\u001b[0m     output_attentions\u001b[39m=\u001b[39;49moutput_attentions,\n\u001b[1;32m   2738\u001b[0m     output_hidden_states\u001b[39m=\u001b[39;49moutput_hidden_states,\n\u001b[1;32m   2739\u001b[0m )\n\u001b[1;32m   2741\u001b[0m \u001b[39mif\u001b[39;00m synced_gpus \u001b[39mand\u001b[39;00m this_peer_finished:\n\u001b[1;32m   2742\u001b[0m     \u001b[39mcontinue\u001b[39;00m  \u001b[39m# don't waste resources running the code we don't need\u001b[39;00m\n",
      "File \u001b[0;32m/opt/conda/lib/python3.10/site-packages/torch/nn/modules/module.py:1501\u001b[0m, in \u001b[0;36mModule._call_impl\u001b[0;34m(self, *args, **kwargs)\u001b[0m\n\u001b[1;32m   1496\u001b[0m \u001b[39m# If we don't have any hooks, we want to skip the rest of the logic in\u001b[39;00m\n\u001b[1;32m   1497\u001b[0m \u001b[39m# this function, and just call forward.\u001b[39;00m\n\u001b[1;32m   1498\u001b[0m \u001b[39mif\u001b[39;00m \u001b[39mnot\u001b[39;00m (\u001b[39mself\u001b[39m\u001b[39m.\u001b[39m_backward_hooks \u001b[39mor\u001b[39;00m \u001b[39mself\u001b[39m\u001b[39m.\u001b[39m_backward_pre_hooks \u001b[39mor\u001b[39;00m \u001b[39mself\u001b[39m\u001b[39m.\u001b[39m_forward_hooks \u001b[39mor\u001b[39;00m \u001b[39mself\u001b[39m\u001b[39m.\u001b[39m_forward_pre_hooks\n\u001b[1;32m   1499\u001b[0m         \u001b[39mor\u001b[39;00m _global_backward_pre_hooks \u001b[39mor\u001b[39;00m _global_backward_hooks\n\u001b[1;32m   1500\u001b[0m         \u001b[39mor\u001b[39;00m _global_forward_hooks \u001b[39mor\u001b[39;00m _global_forward_pre_hooks):\n\u001b[0;32m-> 1501\u001b[0m     \u001b[39mreturn\u001b[39;00m forward_call(\u001b[39m*\u001b[39;49margs, \u001b[39m*\u001b[39;49m\u001b[39m*\u001b[39;49mkwargs)\n\u001b[1;32m   1502\u001b[0m \u001b[39m# Do not call functions when jit is used\u001b[39;00m\n\u001b[1;32m   1503\u001b[0m full_backward_hooks, non_full_backward_hooks \u001b[39m=\u001b[39m [], []\n",
      "File \u001b[0;32m/opt/conda/lib/python3.10/site-packages/accelerate/hooks.py:165\u001b[0m, in \u001b[0;36madd_hook_to_module.<locals>.new_forward\u001b[0;34m(*args, **kwargs)\u001b[0m\n\u001b[1;32m    163\u001b[0m         output \u001b[39m=\u001b[39m old_forward(\u001b[39m*\u001b[39margs, \u001b[39m*\u001b[39m\u001b[39m*\u001b[39mkwargs)\n\u001b[1;32m    164\u001b[0m \u001b[39melse\u001b[39;00m:\n\u001b[0;32m--> 165\u001b[0m     output \u001b[39m=\u001b[39m old_forward(\u001b[39m*\u001b[39;49margs, \u001b[39m*\u001b[39;49m\u001b[39m*\u001b[39;49mkwargs)\n\u001b[1;32m    166\u001b[0m \u001b[39mreturn\u001b[39;00m module\u001b[39m.\u001b[39m_hf_hook\u001b[39m.\u001b[39mpost_forward(module, output)\n",
      "File \u001b[0;32m/opt/conda/lib/python3.10/site-packages/transformers/models/llama/modeling_llama.py:820\u001b[0m, in \u001b[0;36mLlamaForCausalLM.forward\u001b[0;34m(self, input_ids, attention_mask, position_ids, past_key_values, inputs_embeds, labels, use_cache, output_attentions, output_hidden_states, return_dict)\u001b[0m\n\u001b[1;32m    817\u001b[0m return_dict \u001b[39m=\u001b[39m return_dict \u001b[39mif\u001b[39;00m return_dict \u001b[39mis\u001b[39;00m \u001b[39mnot\u001b[39;00m \u001b[39mNone\u001b[39;00m \u001b[39melse\u001b[39;00m \u001b[39mself\u001b[39m\u001b[39m.\u001b[39mconfig\u001b[39m.\u001b[39muse_return_dict\n\u001b[1;32m    819\u001b[0m \u001b[39m# decoder outputs consists of (dec_features, layer_state, dec_hidden, dec_attn)\u001b[39;00m\n\u001b[0;32m--> 820\u001b[0m outputs \u001b[39m=\u001b[39m \u001b[39mself\u001b[39;49m\u001b[39m.\u001b[39;49mmodel(\n\u001b[1;32m    821\u001b[0m     input_ids\u001b[39m=\u001b[39;49minput_ids,\n\u001b[1;32m    822\u001b[0m     attention_mask\u001b[39m=\u001b[39;49mattention_mask,\n\u001b[1;32m    823\u001b[0m     position_ids\u001b[39m=\u001b[39;49mposition_ids,\n\u001b[1;32m    824\u001b[0m     past_key_values\u001b[39m=\u001b[39;49mpast_key_values,\n\u001b[1;32m    825\u001b[0m     inputs_embeds\u001b[39m=\u001b[39;49minputs_embeds,\n\u001b[1;32m    826\u001b[0m     use_cache\u001b[39m=\u001b[39;49muse_cache,\n\u001b[1;32m    827\u001b[0m     output_attentions\u001b[39m=\u001b[39;49moutput_attentions,\n\u001b[1;32m    828\u001b[0m     output_hidden_states\u001b[39m=\u001b[39;49moutput_hidden_states,\n\u001b[1;32m    829\u001b[0m     return_dict\u001b[39m=\u001b[39;49mreturn_dict,\n\u001b[1;32m    830\u001b[0m )\n\u001b[1;32m    832\u001b[0m hidden_states \u001b[39m=\u001b[39m outputs[\u001b[39m0\u001b[39m]\n\u001b[1;32m    833\u001b[0m \u001b[39mif\u001b[39;00m \u001b[39mself\u001b[39m\u001b[39m.\u001b[39mconfig\u001b[39m.\u001b[39mpretraining_tp \u001b[39m>\u001b[39m \u001b[39m1\u001b[39m:\n",
      "File \u001b[0;32m/opt/conda/lib/python3.10/site-packages/torch/nn/modules/module.py:1501\u001b[0m, in \u001b[0;36mModule._call_impl\u001b[0;34m(self, *args, **kwargs)\u001b[0m\n\u001b[1;32m   1496\u001b[0m \u001b[39m# If we don't have any hooks, we want to skip the rest of the logic in\u001b[39;00m\n\u001b[1;32m   1497\u001b[0m \u001b[39m# this function, and just call forward.\u001b[39;00m\n\u001b[1;32m   1498\u001b[0m \u001b[39mif\u001b[39;00m \u001b[39mnot\u001b[39;00m (\u001b[39mself\u001b[39m\u001b[39m.\u001b[39m_backward_hooks \u001b[39mor\u001b[39;00m \u001b[39mself\u001b[39m\u001b[39m.\u001b[39m_backward_pre_hooks \u001b[39mor\u001b[39;00m \u001b[39mself\u001b[39m\u001b[39m.\u001b[39m_forward_hooks \u001b[39mor\u001b[39;00m \u001b[39mself\u001b[39m\u001b[39m.\u001b[39m_forward_pre_hooks\n\u001b[1;32m   1499\u001b[0m         \u001b[39mor\u001b[39;00m _global_backward_pre_hooks \u001b[39mor\u001b[39;00m _global_backward_hooks\n\u001b[1;32m   1500\u001b[0m         \u001b[39mor\u001b[39;00m _global_forward_hooks \u001b[39mor\u001b[39;00m _global_forward_pre_hooks):\n\u001b[0;32m-> 1501\u001b[0m     \u001b[39mreturn\u001b[39;00m forward_call(\u001b[39m*\u001b[39;49margs, \u001b[39m*\u001b[39;49m\u001b[39m*\u001b[39;49mkwargs)\n\u001b[1;32m   1502\u001b[0m \u001b[39m# Do not call functions when jit is used\u001b[39;00m\n\u001b[1;32m   1503\u001b[0m full_backward_hooks, non_full_backward_hooks \u001b[39m=\u001b[39m [], []\n",
      "File \u001b[0;32m/opt/conda/lib/python3.10/site-packages/accelerate/hooks.py:165\u001b[0m, in \u001b[0;36madd_hook_to_module.<locals>.new_forward\u001b[0;34m(*args, **kwargs)\u001b[0m\n\u001b[1;32m    163\u001b[0m         output \u001b[39m=\u001b[39m old_forward(\u001b[39m*\u001b[39margs, \u001b[39m*\u001b[39m\u001b[39m*\u001b[39mkwargs)\n\u001b[1;32m    164\u001b[0m \u001b[39melse\u001b[39;00m:\n\u001b[0;32m--> 165\u001b[0m     output \u001b[39m=\u001b[39m old_forward(\u001b[39m*\u001b[39;49margs, \u001b[39m*\u001b[39;49m\u001b[39m*\u001b[39;49mkwargs)\n\u001b[1;32m    166\u001b[0m \u001b[39mreturn\u001b[39;00m module\u001b[39m.\u001b[39m_hf_hook\u001b[39m.\u001b[39mpost_forward(module, output)\n",
      "File \u001b[0;32m/opt/conda/lib/python3.10/site-packages/transformers/models/llama/modeling_llama.py:708\u001b[0m, in \u001b[0;36mLlamaModel.forward\u001b[0;34m(self, input_ids, attention_mask, position_ids, past_key_values, inputs_embeds, use_cache, output_attentions, output_hidden_states, return_dict)\u001b[0m\n\u001b[1;32m    701\u001b[0m     layer_outputs \u001b[39m=\u001b[39m torch\u001b[39m.\u001b[39mutils\u001b[39m.\u001b[39mcheckpoint\u001b[39m.\u001b[39mcheckpoint(\n\u001b[1;32m    702\u001b[0m         create_custom_forward(decoder_layer),\n\u001b[1;32m    703\u001b[0m         hidden_states,\n\u001b[1;32m    704\u001b[0m         attention_mask,\n\u001b[1;32m    705\u001b[0m         position_ids,\n\u001b[1;32m    706\u001b[0m     )\n\u001b[1;32m    707\u001b[0m \u001b[39melse\u001b[39;00m:\n\u001b[0;32m--> 708\u001b[0m     layer_outputs \u001b[39m=\u001b[39m decoder_layer(\n\u001b[1;32m    709\u001b[0m         hidden_states,\n\u001b[1;32m    710\u001b[0m         attention_mask\u001b[39m=\u001b[39;49mattention_mask,\n\u001b[1;32m    711\u001b[0m         position_ids\u001b[39m=\u001b[39;49mposition_ids,\n\u001b[1;32m    712\u001b[0m         past_key_value\u001b[39m=\u001b[39;49mpast_key_value,\n\u001b[1;32m    713\u001b[0m         output_attentions\u001b[39m=\u001b[39;49moutput_attentions,\n\u001b[1;32m    714\u001b[0m         use_cache\u001b[39m=\u001b[39;49muse_cache,\n\u001b[1;32m    715\u001b[0m     )\n\u001b[1;32m    717\u001b[0m hidden_states \u001b[39m=\u001b[39m layer_outputs[\u001b[39m0\u001b[39m]\n\u001b[1;32m    719\u001b[0m \u001b[39mif\u001b[39;00m use_cache:\n",
      "File \u001b[0;32m/opt/conda/lib/python3.10/site-packages/torch/nn/modules/module.py:1501\u001b[0m, in \u001b[0;36mModule._call_impl\u001b[0;34m(self, *args, **kwargs)\u001b[0m\n\u001b[1;32m   1496\u001b[0m \u001b[39m# If we don't have any hooks, we want to skip the rest of the logic in\u001b[39;00m\n\u001b[1;32m   1497\u001b[0m \u001b[39m# this function, and just call forward.\u001b[39;00m\n\u001b[1;32m   1498\u001b[0m \u001b[39mif\u001b[39;00m \u001b[39mnot\u001b[39;00m (\u001b[39mself\u001b[39m\u001b[39m.\u001b[39m_backward_hooks \u001b[39mor\u001b[39;00m \u001b[39mself\u001b[39m\u001b[39m.\u001b[39m_backward_pre_hooks \u001b[39mor\u001b[39;00m \u001b[39mself\u001b[39m\u001b[39m.\u001b[39m_forward_hooks \u001b[39mor\u001b[39;00m \u001b[39mself\u001b[39m\u001b[39m.\u001b[39m_forward_pre_hooks\n\u001b[1;32m   1499\u001b[0m         \u001b[39mor\u001b[39;00m _global_backward_pre_hooks \u001b[39mor\u001b[39;00m _global_backward_hooks\n\u001b[1;32m   1500\u001b[0m         \u001b[39mor\u001b[39;00m _global_forward_hooks \u001b[39mor\u001b[39;00m _global_forward_pre_hooks):\n\u001b[0;32m-> 1501\u001b[0m     \u001b[39mreturn\u001b[39;00m forward_call(\u001b[39m*\u001b[39;49margs, \u001b[39m*\u001b[39;49m\u001b[39m*\u001b[39;49mkwargs)\n\u001b[1;32m   1502\u001b[0m \u001b[39m# Do not call functions when jit is used\u001b[39;00m\n\u001b[1;32m   1503\u001b[0m full_backward_hooks, non_full_backward_hooks \u001b[39m=\u001b[39m [], []\n",
      "File \u001b[0;32m/opt/conda/lib/python3.10/site-packages/accelerate/hooks.py:165\u001b[0m, in \u001b[0;36madd_hook_to_module.<locals>.new_forward\u001b[0;34m(*args, **kwargs)\u001b[0m\n\u001b[1;32m    163\u001b[0m         output \u001b[39m=\u001b[39m old_forward(\u001b[39m*\u001b[39margs, \u001b[39m*\u001b[39m\u001b[39m*\u001b[39mkwargs)\n\u001b[1;32m    164\u001b[0m \u001b[39melse\u001b[39;00m:\n\u001b[0;32m--> 165\u001b[0m     output \u001b[39m=\u001b[39m old_forward(\u001b[39m*\u001b[39;49margs, \u001b[39m*\u001b[39;49m\u001b[39m*\u001b[39;49mkwargs)\n\u001b[1;32m    166\u001b[0m \u001b[39mreturn\u001b[39;00m module\u001b[39m.\u001b[39m_hf_hook\u001b[39m.\u001b[39mpost_forward(module, output)\n",
      "File \u001b[0;32m/opt/conda/lib/python3.10/site-packages/transformers/models/llama/modeling_llama.py:424\u001b[0m, in \u001b[0;36mLlamaDecoderLayer.forward\u001b[0;34m(self, hidden_states, attention_mask, position_ids, past_key_value, output_attentions, use_cache)\u001b[0m\n\u001b[1;32m    421\u001b[0m hidden_states \u001b[39m=\u001b[39m \u001b[39mself\u001b[39m\u001b[39m.\u001b[39minput_layernorm(hidden_states)\n\u001b[1;32m    423\u001b[0m \u001b[39m# Self Attention\u001b[39;00m\n\u001b[0;32m--> 424\u001b[0m hidden_states, self_attn_weights, present_key_value \u001b[39m=\u001b[39m \u001b[39mself\u001b[39;49m\u001b[39m.\u001b[39;49mself_attn(\n\u001b[1;32m    425\u001b[0m     hidden_states\u001b[39m=\u001b[39;49mhidden_states,\n\u001b[1;32m    426\u001b[0m     attention_mask\u001b[39m=\u001b[39;49mattention_mask,\n\u001b[1;32m    427\u001b[0m     position_ids\u001b[39m=\u001b[39;49mposition_ids,\n\u001b[1;32m    428\u001b[0m     past_key_value\u001b[39m=\u001b[39;49mpast_key_value,\n\u001b[1;32m    429\u001b[0m     output_attentions\u001b[39m=\u001b[39;49moutput_attentions,\n\u001b[1;32m    430\u001b[0m     use_cache\u001b[39m=\u001b[39;49muse_cache,\n\u001b[1;32m    431\u001b[0m )\n\u001b[1;32m    432\u001b[0m hidden_states \u001b[39m=\u001b[39m residual \u001b[39m+\u001b[39m hidden_states\n\u001b[1;32m    434\u001b[0m \u001b[39m# Fully Connected\u001b[39;00m\n",
      "File \u001b[0;32m/opt/conda/lib/python3.10/site-packages/torch/nn/modules/module.py:1501\u001b[0m, in \u001b[0;36mModule._call_impl\u001b[0;34m(self, *args, **kwargs)\u001b[0m\n\u001b[1;32m   1496\u001b[0m \u001b[39m# If we don't have any hooks, we want to skip the rest of the logic in\u001b[39;00m\n\u001b[1;32m   1497\u001b[0m \u001b[39m# this function, and just call forward.\u001b[39;00m\n\u001b[1;32m   1498\u001b[0m \u001b[39mif\u001b[39;00m \u001b[39mnot\u001b[39;00m (\u001b[39mself\u001b[39m\u001b[39m.\u001b[39m_backward_hooks \u001b[39mor\u001b[39;00m \u001b[39mself\u001b[39m\u001b[39m.\u001b[39m_backward_pre_hooks \u001b[39mor\u001b[39;00m \u001b[39mself\u001b[39m\u001b[39m.\u001b[39m_forward_hooks \u001b[39mor\u001b[39;00m \u001b[39mself\u001b[39m\u001b[39m.\u001b[39m_forward_pre_hooks\n\u001b[1;32m   1499\u001b[0m         \u001b[39mor\u001b[39;00m _global_backward_pre_hooks \u001b[39mor\u001b[39;00m _global_backward_hooks\n\u001b[1;32m   1500\u001b[0m         \u001b[39mor\u001b[39;00m _global_forward_hooks \u001b[39mor\u001b[39;00m _global_forward_pre_hooks):\n\u001b[0;32m-> 1501\u001b[0m     \u001b[39mreturn\u001b[39;00m forward_call(\u001b[39m*\u001b[39;49margs, \u001b[39m*\u001b[39;49m\u001b[39m*\u001b[39;49mkwargs)\n\u001b[1;32m   1502\u001b[0m \u001b[39m# Do not call functions when jit is used\u001b[39;00m\n\u001b[1;32m   1503\u001b[0m full_backward_hooks, non_full_backward_hooks \u001b[39m=\u001b[39m [], []\n",
      "File \u001b[0;32m/opt/conda/lib/python3.10/site-packages/accelerate/hooks.py:165\u001b[0m, in \u001b[0;36madd_hook_to_module.<locals>.new_forward\u001b[0;34m(*args, **kwargs)\u001b[0m\n\u001b[1;32m    163\u001b[0m         output \u001b[39m=\u001b[39m old_forward(\u001b[39m*\u001b[39margs, \u001b[39m*\u001b[39m\u001b[39m*\u001b[39mkwargs)\n\u001b[1;32m    164\u001b[0m \u001b[39melse\u001b[39;00m:\n\u001b[0;32m--> 165\u001b[0m     output \u001b[39m=\u001b[39m old_forward(\u001b[39m*\u001b[39;49margs, \u001b[39m*\u001b[39;49m\u001b[39m*\u001b[39;49mkwargs)\n\u001b[1;32m    166\u001b[0m \u001b[39mreturn\u001b[39;00m module\u001b[39m.\u001b[39m_hf_hook\u001b[39m.\u001b[39mpost_forward(module, output)\n",
      "File \u001b[0;32m/opt/conda/lib/python3.10/site-packages/transformers/models/llama/modeling_llama.py:379\u001b[0m, in \u001b[0;36mLlamaAttention.forward\u001b[0;34m(self, hidden_states, attention_mask, position_ids, past_key_value, output_attentions, use_cache)\u001b[0m\n\u001b[1;32m    377\u001b[0m     attn_output \u001b[39m=\u001b[39m \u001b[39msum\u001b[39m([F\u001b[39m.\u001b[39mlinear(attn_output[i], o_proj_slices[i]) \u001b[39mfor\u001b[39;00m i \u001b[39min\u001b[39;00m \u001b[39mrange\u001b[39m(\u001b[39mself\u001b[39m\u001b[39m.\u001b[39mconfig\u001b[39m.\u001b[39mpretraining_tp)])\n\u001b[1;32m    378\u001b[0m \u001b[39melse\u001b[39;00m:\n\u001b[0;32m--> 379\u001b[0m     attn_output \u001b[39m=\u001b[39m \u001b[39mself\u001b[39;49m\u001b[39m.\u001b[39;49mo_proj(attn_output)\n\u001b[1;32m    381\u001b[0m \u001b[39mif\u001b[39;00m \u001b[39mnot\u001b[39;00m output_attentions:\n\u001b[1;32m    382\u001b[0m     attn_weights \u001b[39m=\u001b[39m \u001b[39mNone\u001b[39;00m\n",
      "File \u001b[0;32m/opt/conda/lib/python3.10/site-packages/torch/nn/modules/module.py:1501\u001b[0m, in \u001b[0;36mModule._call_impl\u001b[0;34m(self, *args, **kwargs)\u001b[0m\n\u001b[1;32m   1496\u001b[0m \u001b[39m# If we don't have any hooks, we want to skip the rest of the logic in\u001b[39;00m\n\u001b[1;32m   1497\u001b[0m \u001b[39m# this function, and just call forward.\u001b[39;00m\n\u001b[1;32m   1498\u001b[0m \u001b[39mif\u001b[39;00m \u001b[39mnot\u001b[39;00m (\u001b[39mself\u001b[39m\u001b[39m.\u001b[39m_backward_hooks \u001b[39mor\u001b[39;00m \u001b[39mself\u001b[39m\u001b[39m.\u001b[39m_backward_pre_hooks \u001b[39mor\u001b[39;00m \u001b[39mself\u001b[39m\u001b[39m.\u001b[39m_forward_hooks \u001b[39mor\u001b[39;00m \u001b[39mself\u001b[39m\u001b[39m.\u001b[39m_forward_pre_hooks\n\u001b[1;32m   1499\u001b[0m         \u001b[39mor\u001b[39;00m _global_backward_pre_hooks \u001b[39mor\u001b[39;00m _global_backward_hooks\n\u001b[1;32m   1500\u001b[0m         \u001b[39mor\u001b[39;00m _global_forward_hooks \u001b[39mor\u001b[39;00m _global_forward_pre_hooks):\n\u001b[0;32m-> 1501\u001b[0m     \u001b[39mreturn\u001b[39;00m forward_call(\u001b[39m*\u001b[39;49margs, \u001b[39m*\u001b[39;49m\u001b[39m*\u001b[39;49mkwargs)\n\u001b[1;32m   1502\u001b[0m \u001b[39m# Do not call functions when jit is used\u001b[39;00m\n\u001b[1;32m   1503\u001b[0m full_backward_hooks, non_full_backward_hooks \u001b[39m=\u001b[39m [], []\n",
      "File \u001b[0;32m/opt/conda/lib/python3.10/site-packages/accelerate/hooks.py:165\u001b[0m, in \u001b[0;36madd_hook_to_module.<locals>.new_forward\u001b[0;34m(*args, **kwargs)\u001b[0m\n\u001b[1;32m    163\u001b[0m         output \u001b[39m=\u001b[39m old_forward(\u001b[39m*\u001b[39margs, \u001b[39m*\u001b[39m\u001b[39m*\u001b[39mkwargs)\n\u001b[1;32m    164\u001b[0m \u001b[39melse\u001b[39;00m:\n\u001b[0;32m--> 165\u001b[0m     output \u001b[39m=\u001b[39m old_forward(\u001b[39m*\u001b[39;49margs, \u001b[39m*\u001b[39;49m\u001b[39m*\u001b[39;49mkwargs)\n\u001b[1;32m    166\u001b[0m \u001b[39mreturn\u001b[39;00m module\u001b[39m.\u001b[39m_hf_hook\u001b[39m.\u001b[39mpost_forward(module, output)\n",
      "File \u001b[0;32m/opt/conda/lib/python3.10/site-packages/bitsandbytes/nn/modules.py:441\u001b[0m, in \u001b[0;36mLinear8bitLt.forward\u001b[0;34m(self, x)\u001b[0m\n\u001b[1;32m    438\u001b[0m \u001b[39mif\u001b[39;00m \u001b[39mself\u001b[39m\u001b[39m.\u001b[39mbias \u001b[39mis\u001b[39;00m \u001b[39mnot\u001b[39;00m \u001b[39mNone\u001b[39;00m \u001b[39mand\u001b[39;00m \u001b[39mself\u001b[39m\u001b[39m.\u001b[39mbias\u001b[39m.\u001b[39mdtype \u001b[39m!=\u001b[39m x\u001b[39m.\u001b[39mdtype:\n\u001b[1;32m    439\u001b[0m     \u001b[39mself\u001b[39m\u001b[39m.\u001b[39mbias\u001b[39m.\u001b[39mdata \u001b[39m=\u001b[39m \u001b[39mself\u001b[39m\u001b[39m.\u001b[39mbias\u001b[39m.\u001b[39mdata\u001b[39m.\u001b[39mto(x\u001b[39m.\u001b[39mdtype)\n\u001b[0;32m--> 441\u001b[0m out \u001b[39m=\u001b[39m bnb\u001b[39m.\u001b[39;49mmatmul(x, \u001b[39mself\u001b[39;49m\u001b[39m.\u001b[39;49mweight, bias\u001b[39m=\u001b[39;49m\u001b[39mself\u001b[39;49m\u001b[39m.\u001b[39;49mbias, state\u001b[39m=\u001b[39;49m\u001b[39mself\u001b[39;49m\u001b[39m.\u001b[39;49mstate)\n\u001b[1;32m    443\u001b[0m \u001b[39mif\u001b[39;00m \u001b[39mnot\u001b[39;00m \u001b[39mself\u001b[39m\u001b[39m.\u001b[39mstate\u001b[39m.\u001b[39mhas_fp16_weights:\n\u001b[1;32m    444\u001b[0m     \u001b[39mif\u001b[39;00m \u001b[39mself\u001b[39m\u001b[39m.\u001b[39mstate\u001b[39m.\u001b[39mCB \u001b[39mis\u001b[39;00m \u001b[39mnot\u001b[39;00m \u001b[39mNone\u001b[39;00m \u001b[39mand\u001b[39;00m \u001b[39mself\u001b[39m\u001b[39m.\u001b[39mstate\u001b[39m.\u001b[39mCxB \u001b[39mis\u001b[39;00m \u001b[39mnot\u001b[39;00m \u001b[39mNone\u001b[39;00m:\n\u001b[1;32m    445\u001b[0m         \u001b[39m# we converted 8-bit row major to turing/ampere format in the first inference pass\u001b[39;00m\n\u001b[1;32m    446\u001b[0m         \u001b[39m# we no longer need the row-major weight\u001b[39;00m\n",
      "File \u001b[0;32m/opt/conda/lib/python3.10/site-packages/bitsandbytes/autograd/_functions.py:563\u001b[0m, in \u001b[0;36mmatmul\u001b[0;34m(A, B, out, state, threshold, bias)\u001b[0m\n\u001b[1;32m    561\u001b[0m \u001b[39mif\u001b[39;00m threshold \u001b[39m>\u001b[39m \u001b[39m0.0\u001b[39m:\n\u001b[1;32m    562\u001b[0m     state\u001b[39m.\u001b[39mthreshold \u001b[39m=\u001b[39m threshold\n\u001b[0;32m--> 563\u001b[0m \u001b[39mreturn\u001b[39;00m MatMul8bitLt\u001b[39m.\u001b[39;49mapply(A, B, out, bias, state)\n",
      "File \u001b[0;32m/opt/conda/lib/python3.10/site-packages/torch/autograd/function.py:506\u001b[0m, in \u001b[0;36mFunction.apply\u001b[0;34m(cls, *args, **kwargs)\u001b[0m\n\u001b[1;32m    503\u001b[0m \u001b[39mif\u001b[39;00m \u001b[39mnot\u001b[39;00m torch\u001b[39m.\u001b[39m_C\u001b[39m.\u001b[39m_are_functorch_transforms_active():\n\u001b[1;32m    504\u001b[0m     \u001b[39m# See NOTE: [functorch vjp and autograd interaction]\u001b[39;00m\n\u001b[1;32m    505\u001b[0m     args \u001b[39m=\u001b[39m _functorch\u001b[39m.\u001b[39mutils\u001b[39m.\u001b[39munwrap_dead_wrappers(args)\n\u001b[0;32m--> 506\u001b[0m     \u001b[39mreturn\u001b[39;00m \u001b[39msuper\u001b[39;49m()\u001b[39m.\u001b[39;49mapply(\u001b[39m*\u001b[39;49margs, \u001b[39m*\u001b[39;49m\u001b[39m*\u001b[39;49mkwargs)  \u001b[39m# type: ignore[misc]\u001b[39;00m\n\u001b[1;32m    508\u001b[0m \u001b[39mif\u001b[39;00m \u001b[39mcls\u001b[39m\u001b[39m.\u001b[39msetup_context \u001b[39m==\u001b[39m _SingleLevelFunction\u001b[39m.\u001b[39msetup_context:\n\u001b[1;32m    509\u001b[0m     \u001b[39mraise\u001b[39;00m \u001b[39mRuntimeError\u001b[39;00m(\n\u001b[1;32m    510\u001b[0m         \u001b[39m'\u001b[39m\u001b[39mIn order to use an autograd.Function with functorch transforms \u001b[39m\u001b[39m'\u001b[39m\n\u001b[1;32m    511\u001b[0m         \u001b[39m'\u001b[39m\u001b[39m(vmap, grad, jvp, jacrev, ...), it must override the setup_context \u001b[39m\u001b[39m'\u001b[39m\n\u001b[1;32m    512\u001b[0m         \u001b[39m'\u001b[39m\u001b[39mstaticmethod. For more details, please see \u001b[39m\u001b[39m'\u001b[39m\n\u001b[1;32m    513\u001b[0m         \u001b[39m'\u001b[39m\u001b[39mhttps://pytorch.org/docs/master/notes/extending.func.html\u001b[39m\u001b[39m'\u001b[39m)\n",
      "File \u001b[0;32m/opt/conda/lib/python3.10/site-packages/bitsandbytes/autograd/_functions.py:327\u001b[0m, in \u001b[0;36mMatMul8bitLt.forward\u001b[0;34m(ctx, A, B, out, bias, state)\u001b[0m\n\u001b[1;32m    325\u001b[0m \u001b[39mif\u001b[39;00m \u001b[39mlen\u001b[39m(A\u001b[39m.\u001b[39mshape) \u001b[39m==\u001b[39m \u001b[39m3\u001b[39m:\n\u001b[1;32m    326\u001b[0m     A \u001b[39m=\u001b[39m A\u001b[39m.\u001b[39mreshape(\u001b[39m-\u001b[39m\u001b[39m1\u001b[39m, A\u001b[39m.\u001b[39mshape[\u001b[39m-\u001b[39m\u001b[39m1\u001b[39m])\n\u001b[0;32m--> 327\u001b[0m CA, CAt, SCA, SCAt, coo_tensorA \u001b[39m=\u001b[39m F\u001b[39m.\u001b[39;49mdouble_quant(A\u001b[39m.\u001b[39;49mto(torch\u001b[39m.\u001b[39;49mfloat16), threshold\u001b[39m=\u001b[39;49mstate\u001b[39m.\u001b[39;49mthreshold)\n\u001b[1;32m    329\u001b[0m \u001b[39mif\u001b[39;00m state\u001b[39m.\u001b[39mthreshold \u001b[39m>\u001b[39m \u001b[39m0.0\u001b[39m \u001b[39mand\u001b[39;00m coo_tensorA \u001b[39mis\u001b[39;00m \u001b[39mnot\u001b[39;00m \u001b[39mNone\u001b[39;00m:\n\u001b[1;32m    330\u001b[0m     \u001b[39mif\u001b[39;00m state\u001b[39m.\u001b[39mhas_fp16_weights:\n",
      "File \u001b[0;32m/opt/conda/lib/python3.10/site-packages/bitsandbytes/functional.py:2016\u001b[0m, in \u001b[0;36mdouble_quant\u001b[0;34m(A, col_stats, row_stats, out_col, out_row, threshold)\u001b[0m\n\u001b[1;32m   2014\u001b[0m is_on_gpu([A, col_stats, row_stats, out_col, out_row])\n\u001b[1;32m   2015\u001b[0m \u001b[39mif\u001b[39;00m threshold \u001b[39m>\u001b[39m \u001b[39m0.0\u001b[39m:\n\u001b[0;32m-> 2016\u001b[0m     nnz \u001b[39m=\u001b[39m nnz_row_ptr[\u001b[39m-\u001b[39;49m\u001b[39m1\u001b[39;49m]\u001b[39m.\u001b[39;49mitem()\n\u001b[1;32m   2017\u001b[0m     \u001b[39mif\u001b[39;00m nnz \u001b[39m>\u001b[39m \u001b[39m0\u001b[39m:\n\u001b[1;32m   2018\u001b[0m         coo_tensor \u001b[39m=\u001b[39m coo_zeros(\n\u001b[1;32m   2019\u001b[0m             A\u001b[39m.\u001b[39mshape[\u001b[39m0\u001b[39m], A\u001b[39m.\u001b[39mshape[\u001b[39m1\u001b[39m], nnz_row_ptr[\u001b[39m-\u001b[39m\u001b[39m1\u001b[39m]\u001b[39m.\u001b[39mitem(), device\n\u001b[1;32m   2020\u001b[0m         )\n",
      "\u001b[0;31mKeyboardInterrupt\u001b[0m: "
     ]
    }
   ],
   "source": [
    "base_text = \"Add more text here to increase the token count. \" * 100\n",
    "\n",
    "max_new_tokens = 5\n",
    "max_input_tokens = 0\n",
    "tokenizer = AutoTokenizer.from_pretrained(\"meta-llama/Llama-2-7b-hf\")\n",
    "# Add EOS token and padding configurations\n",
    "tokenizer.add_eos_token = True\n",
    "tokenizer.pad_token_id = 0\n",
    "tokenizer.padding_side = \"left\"\n",
    "# tokenizer.padding_size = \"left\"\n",
    "while True:\n",
    "    batch_model_inputs = tokenizer(base_text, return_tensors=\"pt\", padding='max_length', max_length=max_input_tokens+10)\n",
    "    batch_model_inputs.to(\"cuda\")\n",
    "    input_tokens = batch_model_inputs['input_ids'].shape[1]\n",
    "    print(\"input tokens: \", input_tokens)\n",
    "    if input_tokens > max_input_tokens:\n",
    "        max_input_tokens = input_tokens\n",
    "    \n",
    "    output = model.generate(**batch_model_inputs, max_new_tokens=max_new_tokens)\n",
    "    output_tokens = output.shape[1]\n",
    "    # Check if the last tokens of the input are present in the output\n",
    "    last_input_tokens = batch_model_inputs['input_ids'][0, -max_new_tokens:].tolist()\n",
    "    if not all(token in output[0, -max_new_tokens*2:].tolist() for token in last_input_tokens):\n",
    "        print(f\"Context limit reached with input tokens: {input_tokens}\")\n",
    "        break\n",
    "\n",
    "    base_text += \" Add more text here to increase the token count. \"*30\n"
   ]
  },
  {
   "cell_type": "code",
   "execution_count": null,
   "metadata": {},
   "outputs": [],
   "source": []
  }
 ],
 "metadata": {
  "kernelspec": {
   "display_name": "base",
   "language": "python",
   "name": "python3"
  },
  "language_info": {
   "codemirror_mode": {
    "name": "ipython",
    "version": 3
   },
   "file_extension": ".py",
   "mimetype": "text/x-python",
   "name": "python",
   "nbconvert_exporter": "python",
   "pygments_lexer": "ipython3",
   "version": "3.10.12"
  },
  "orig_nbformat": 4
 },
 "nbformat": 4,
 "nbformat_minor": 2
}
