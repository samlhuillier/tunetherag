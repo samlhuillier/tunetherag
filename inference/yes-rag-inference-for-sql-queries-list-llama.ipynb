{
 "cells": [
  {
   "cell_type": "code",
   "execution_count": 1,
   "metadata": {},
   "outputs": [
    {
     "name": "stderr",
     "output_type": "stream",
     "text": [
      "/Users/sam/miniconda3/lib/python3.10/site-packages/tqdm/auto.py:21: TqdmWarning: IProgress not found. Please update jupyter and ipywidgets. See https://ipywidgets.readthedocs.io/en/stable/user_install.html\n",
      "  from .autonotebook import tqdm as notebook_tqdm\n"
     ]
    }
   ],
   "source": [
    "import sys\n",
    "\n",
    "sys.path.append(\"../embeddings/\")\n",
    "\n",
    "from chroma_funcs import get_closest_entries"
   ]
  },
  {
   "cell_type": "code",
   "execution_count": 2,
   "metadata": {},
   "outputs": [],
   "source": [
    "def format_examples(examples):\n",
    "    result = \"Given the following examples:\\n\"\n",
    "    for i, example_group in enumerate(examples):\n",
    "        for j, example in enumerate(example_group):\n",
    "            result += f\"Example {j+1}:\"\n",
    "            result += \"\\n### Input:\\n\"\n",
    "            result += example.get('question', 'N/A') + \"\\n\"\n",
    "            result += \"\\n### Context:\\n\"\n",
    "            result += example.get('context', 'N/A') + \"\\n\"\n",
    "            result += \"\\n### Response:\\n\"\n",
    "            result += example.get('answer', 'N/A') + \"\\n\\n\"\n",
    "        if i < len(examples) - 1:\n",
    "            result += \"\\n\"\n",
    "    return result\n",
    "\n",
    "\n",
    "def generate_rag_sql_prompt(data_point, dataset_name):\n",
    "    results = get_closest_entries(\n",
    "        dataset_name,\n",
    "        \"question\",\n",
    "        data_point[\"question\"],\n",
    "        n_results=5,\n",
    "        dataset_split=\"train\",\n",
    "    )\n",
    "\n",
    "    rag_datapoints = results[\"metadatas\"]\n",
    "    # print(\"rag datapoints are: \", rag_datapoints)\n",
    "    formatted_examples = format_examples(rag_datapoints)\n",
    "    # print(\"formatted examples are: \", formatted_examples)\n",
    "    inference_prompt = f\"\"\"You are a powerful text-to-SQL model. Your job is to answer questions about a database. You are given a question and context regarding one or more tables. You must output the SQL query that answers the question.\n",
    "\n",
    "{formatted_examples}Please generate the SQL query that answers the following:\n",
    "### Input:\n",
    "{data_point[\"question\"]}\n",
    "\n",
    "### Context:\n",
    "{data_point[\"context\"]}\n",
    "\n",
    "### Response:\n",
    "\"\"\"\n",
    "    full_prompt = f\"{inference_prompt}\\n{data_point['answer']}\"\n",
    "    return full_prompt, inference_prompt"
   ]
  },
  {
   "cell_type": "code",
   "execution_count": 43,
   "metadata": {},
   "outputs": [
    {
     "name": "stdout",
     "output_type": "stream",
     "text": [
      "collection.count() 6602\n",
      "collection.count() 6602\n",
      "[[{'answer': 'SELECT AVG(Working_Horses) FROM farm WHERE Total_Horses > 5000', 'context': 'CREATE TABLE farm (Working_Horses INTEGER, Total_Horses INTEGER)', 'question': 'What is the average number of working horses of farms with more than 5000 total number of horses?'}, {'answer': 'SELECT AVG(Working_Horses) FROM farm WHERE Total_Horses > 5000', 'context': 'CREATE TABLE farm (Working_Horses INTEGER, Total_Horses INTEGER)', 'question': 'What is the average number of working horses of farms with more than 5000 total number of horses?'}, {'answer': 'SELECT AVG(Price), AVG(Cases) FROM WINE WHERE YEAR = 2009 AND Grape = \"Zinfandel\"', 'context': 'CREATE TABLE WINE (Price INTEGER, Cases INTEGER, YEAR VARCHAR, Grape VARCHAR)', 'question': 'What are the average prices and cases of wines produced in the year of 2009 and made of Zinfandel grape?'}, {'answer': 'SELECT AVG(Price), AVG(Cases) FROM WINE WHERE YEAR = 2009 AND Grape = \"Zinfandel\"', 'context': 'CREATE TABLE WINE (Price INTEGER, Cases INTEGER, YEAR VARCHAR, Grape VARCHAR)', 'question': 'What are the average prices and cases of wines produced in the year of 2009 and made of Zinfandel grape?'}, {'answer': 'SELECT Price FROM WINE WHERE YEAR < 2010', 'context': 'CREATE TABLE WINE (Price VARCHAR, YEAR INTEGER)', 'question': 'What are the prices of wines produced before the year of 2010?'}]]\n",
      "You are a powerful text-to-SQL model. Your job is to answer questions about a database. You are given a question and context regarding one or more tables. You must output the SQL query that answers the question.\n",
      "\n",
      "Given the following examples:\n",
      "Example 1:\n",
      "### Input:\n",
      "What is the average number of working horses of farms with more than 5000 total number of horses?\n",
      "\n",
      "### Context:\n",
      "CREATE TABLE farm (Working_Horses INTEGER, Total_Horses INTEGER)\n",
      "\n",
      "### Response:\n",
      "SELECT AVG(Working_Horses) FROM farm WHERE Total_Horses > 5000\n",
      "\n",
      "Example 2:\n",
      "### Input:\n",
      "What is the average number of working horses of farms with more than 5000 total number of horses?\n",
      "\n",
      "### Context:\n",
      "CREATE TABLE farm (Working_Horses INTEGER, Total_Horses INTEGER)\n",
      "\n",
      "### Response:\n",
      "SELECT AVG(Working_Horses) FROM farm WHERE Total_Horses > 5000\n",
      "\n",
      "Example 3:\n",
      "### Input:\n",
      "What are the average prices and cases of wines produced in the year of 2009 and made of Zinfandel grape?\n",
      "\n",
      "### Context:\n",
      "CREATE TABLE WINE (Price INTEGER, Cases INTEGER, YEAR VARCHAR, Grape VARCHAR)\n",
      "\n",
      "### Response:\n",
      "SELECT AVG(Price), AVG(Cases) FROM WINE WHERE YEAR = 2009 AND Grape = \"Zinfandel\"\n",
      "\n",
      "Example 4:\n",
      "### Input:\n",
      "What are the average prices and cases of wines produced in the year of 2009 and made of Zinfandel grape?\n",
      "\n",
      "### Context:\n",
      "CREATE TABLE WINE (Price INTEGER, Cases INTEGER, YEAR VARCHAR, Grape VARCHAR)\n",
      "\n",
      "### Response:\n",
      "SELECT AVG(Price), AVG(Cases) FROM WINE WHERE YEAR = 2009 AND Grape = \"Zinfandel\"\n",
      "\n",
      "Example 5:\n",
      "### Input:\n",
      "What are the prices of wines produced before the year of 2010?\n",
      "\n",
      "### Context:\n",
      "CREATE TABLE WINE (Price VARCHAR, YEAR INTEGER)\n",
      "\n",
      "### Response:\n",
      "SELECT Price FROM WINE WHERE YEAR < 2010\n",
      "\n",
      "Please generate the SQL query that answers the following:\n",
      "### Input:\n",
      "What is the average horsepower for all cars produced before 1980 ?\n",
      "\n",
      "### Context:\n",
      "CREATE TABLE cars_data (horsepower INTEGER, year INTEGER)\n",
      "\n",
      "### Response:\n",
      "\n"
     ]
    }
   ],
   "source": [
    "test_datapoint = {\n",
    "        \"question\": \"What is the average horsepower for all cars produced before 1980 ?\",\n",
    "        \"context\": \"CREATE TABLE cars_data (horsepower INTEGER, year INTEGER)\",\n",
    "        \"answer\": \"select avg(horsepower) from cars_data where year  <  1980;\",\n",
    "        \"db_id\": \"car_1\"\n",
    "    }\n",
    "\n",
    "print(generate_rag_sql_prompt(test_datapoint, \"samlhuillier/sql-create-context-spider-intersect\"))"
   ]
  },
  {
   "cell_type": "code",
   "execution_count": 3,
   "metadata": {},
   "outputs": [
    {
     "name": "stderr",
     "output_type": "stream",
     "text": [
      "Map: 100%|██████████| 936/936 [01:51<00:00,  8.41 examples/s]\n",
      "Creating json from Arrow format: 100%|██████████| 1/1 [00:00<00:00, 15.91ba/s]\n"
     ]
    },
    {
     "data": {
      "text/plain": [
       "4106046"
      ]
     },
     "execution_count": 3,
     "metadata": {},
     "output_type": "execute_result"
    }
   ],
   "source": [
    "from datasets import load_dataset\n",
    "\n",
    "dataset = load_dataset(\"samlhuillier/sql-create-context-spider-intersect\", split=\"validation\")\n",
    "\n",
    "def add_prompt_features(example):\n",
    "    # Add your logic to generate the extra feature here\n",
    "    full_prompt, inference_prompt = generate_rag_sql_prompt(example, \"samlhuillier/sql-create-context-spider-intersect\")\n",
    "    example['full_prompt'] = full_prompt\n",
    "    example['inference_prompt'] = inference_prompt\n",
    "    return example\n",
    "\n",
    "dataset = dataset.map(add_prompt_features)\n",
    "\n",
    "# Step 4: Save the dataset as a JSON file\n",
    "dataset.to_json('sql-create-context-spider-intersect-validation-with-prompts.jsonl')\n",
    "# prompts = []\n",
    "# for data_point in dataset:\n",
    "#     prompts.append(generate_rag_sql_prompt(data_point, \"samlhuillier/sql-create-context-spider-intersect\"))\n",
    "#     # print(generate_rag_sql_prompt(data_point, \"samlhuillier/sql-create-context-spider-intersect\"))\n",
    "\n",
    "# print(prompts[8])\n",
    "# prompted_dataset = dataset.map(\n",
    "#     lambda x: generate_rag_sql_prompt(x, \"samlhuillier/sql-create-context-spider-intersect\")\n",
    "# )\n",
    "# prompted_dataset\n",
    "    "
   ]
  },
  {
   "cell_type": "code",
   "execution_count": null,
   "metadata": {},
   "outputs": [],
   "source": []
  },
  {
   "cell_type": "code",
   "execution_count": 13,
   "metadata": {},
   "outputs": [
    {
     "data": {
      "text/plain": [
       "'You are a powerful text-to-SQL model. Your job is to answer questions about a database. You are given a question and context regarding one or more tables. You must output the SQL query that answers the question.\\n\\nGiven the following examples:\\nExample 1:\\n### Input:\\nList the age of all music artists.\\n\\n### Context:\\nCREATE TABLE artist (Age VARCHAR)\\n\\n### Response:\\nSELECT Age FROM artist\\n\\nExample 2:\\n### Input:\\nList the age of all music artists.\\n\\n### Context:\\nCREATE TABLE artist (Age VARCHAR)\\n\\n### Response:\\nSELECT Age FROM artist\\n\\nExample 3:\\n### Input:\\nPlease list the age and famous title of artists in descending order of age.\\n\\n### Context:\\nCREATE TABLE artist (Famous_Title VARCHAR, Age VARCHAR)\\n\\n### Response:\\nSELECT Famous_Title, Age FROM artist ORDER BY Age DESC\\n\\nExample 4:\\n### Input:\\nPlease list the age and famous title of artists in descending order of age.\\n\\n### Context:\\nCREATE TABLE artist (Famous_Title VARCHAR, Age VARCHAR)\\n\\n### Response:\\nSELECT Famous_Title, Age FROM artist ORDER BY Age DESC\\n\\nExample 5:\\n### Input:\\nShow all artist name, age, and country ordered by the yeared they joined.\\n\\n### Context:\\nCREATE TABLE artist (name VARCHAR, age VARCHAR, country VARCHAR, Year_Join VARCHAR)\\n\\n### Response:\\nSELECT name, age, country FROM artist ORDER BY Year_Join\\n\\nPlease generate the SQL query that answers the following:\\n### Input:\\nShow name, country, age for all singers ordered by age from the oldest to the youngest.\\n\\n### Context:\\nCREATE TABLE singer (name VARCHAR, country VARCHAR, age VARCHAR)\\n\\n### Response:\\n'"
      ]
     },
     "execution_count": 13,
     "metadata": {},
     "output_type": "execute_result"
    }
   ],
   "source": [
    "import json\n",
    "\n",
    "# with open(\"sql-create-context-spider-intersect-validation-with-prompts.jsonl\", \"r\") as f:\n",
    "#     data = json.load(f)\n",
    "\n",
    "# with open('sql-create-context-spider-intersect-validation-with-prompts.jsonl', 'r') as f:\n",
    "#     for line in f:\n",
    "#         data = json.loads(line)\n",
    "#         # print(data)\n",
    "\n",
    "data = []\n",
    "with open('sql-create-context-spider-intersect-validation-with-prompts.jsonl', 'r') as f:\n",
    "    for line in f:\n",
    "        data.append(json.loads(line))\n",
    "# print(data_list[2])\n",
    "# Step 2: Apply the function to each entry\n",
    "# responses = map(your_function, data)\n",
    "prompts = []\n",
    "for data_point in data:\n",
    "    # prompt = generate_prompt(data_point)\n",
    "    # append prompt to prompts\n",
    "    prompts.append(data_point['inference_prompt'])\n",
    "\n",
    "prompts[3]"
   ]
  },
  {
   "cell_type": "code",
   "execution_count": null,
   "metadata": {},
   "outputs": [],
   "source": [
    "import torch\n",
    "from transformers import AutoModelForCausalLM, BitsAndBytesConfig, AutoTokenizer\n",
    "\n",
    "base_model = \"codellama/CodeLlama-7b-hf\"\n",
    "model = AutoModelForCausalLM.from_pretrained(\n",
    "    base_model,\n",
    "    load_in_8bit=True,\n",
    "    torch_dtype=torch.float16,\n",
    "    device_map=\"auto\",\n",
    ")\n",
    "tokenizer = AutoTokenizer.from_pretrained(\"codellama/CodeLlama-7b-hf\")"
   ]
  },
  {
   "cell_type": "code",
   "execution_count": null,
   "metadata": {},
   "outputs": [],
   "source": [
    "from peft import PeftModel\n",
    "\n",
    "model = PeftModel.from_pretrained(model, \"sql-code-llama/checkpoint-160\")"
   ]
  },
  {
   "cell_type": "code",
   "execution_count": null,
   "metadata": {},
   "outputs": [],
   "source": [
    "tokenizer.pad_token = tokenizer.eos_token"
   ]
  },
  {
   "cell_type": "code",
   "execution_count": null,
   "metadata": {},
   "outputs": [],
   "source": [
    "batch_size = 12  # You can adjust the batch size based on your GPU capacity\n",
    "outputs = []\n",
    "\n",
    "model.eval()\n",
    "with torch.no_grad(), open(\"codellama7b-valoutputs2.txt\", \"a\") as f:\n",
    "    for i in range(0, len(prompts), batch_size):\n",
    "        print(\"i is: \", i)\n",
    "        batch_inputs = prompts[i : i + batch_size]\n",
    "\n",
    "        # Step 3: Loop over the batches and generate the outputs\n",
    "        batch_model_inputs = tokenizer(\n",
    "            batch_inputs, return_tensors=\"pt\", padding=True, truncation=True\n",
    "        )\n",
    "\n",
    "        input_lengths = [\n",
    "            len(input_ids) for input_ids in batch_model_inputs[\"input_ids\"]\n",
    "        ]\n",
    "\n",
    "        batch_outputs = model.generate(**batch_model_inputs, max_new_tokens=100)\n",
    "\n",
    "        # Step 4: Collect the outputs\n",
    "        batch_decoded_outputs = [\n",
    "            tokenizer.decode(output[input_length:], skip_special_tokens=True)\n",
    "            for output, input_length in zip(batch_outputs, input_lengths)\n",
    "        ]\n",
    "        outputs.extend(batch_decoded_outputs)\n",
    "        print(outputs)\n",
    "        for b in batch_decoded_outputs:\n",
    "            f.write(b.replace(\"\\n\", \" \") + \"\\n\")"
   ]
  }
 ],
 "metadata": {
  "kernelspec": {
   "display_name": "base",
   "language": "python",
   "name": "python3"
  },
  "language_info": {
   "codemirror_mode": {
    "name": "ipython",
    "version": 3
   },
   "file_extension": ".py",
   "mimetype": "text/x-python",
   "name": "python",
   "nbconvert_exporter": "python",
   "pygments_lexer": "ipython3",
   "version": "3.10.12"
  },
  "orig_nbformat": 4
 },
 "nbformat": 4,
 "nbformat_minor": 2
}
