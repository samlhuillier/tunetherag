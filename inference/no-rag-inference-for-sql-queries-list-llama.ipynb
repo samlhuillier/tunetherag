{
 "cells": [
  {
   "cell_type": "code",
   "execution_count": null,
   "metadata": {},
   "outputs": [],
   "source": [
    "import torch\n",
    "from transformers import AutoModelForCausalLM, BitsAndBytesConfig, AutoTokenizer\n",
    "\n",
    "base_model = \"codellama/CodeLlama-7b-hf\"\n",
    "model = AutoModelForCausalLM.from_pretrained(\n",
    "    base_model,\n",
    "    load_in_8bit=True,\n",
    "    torch_dtype=torch.float16,\n",
    "    device_map=\"auto\",\n",
    ")\n",
    "tokenizer = AutoTokenizer.from_pretrained(\"codellama/CodeLlama-7b-hf\")"
   ]
  },
  {
   "cell_type": "code",
   "execution_count": null,
   "metadata": {},
   "outputs": [],
   "source": [
    "from peft import PeftModel\n",
    "model = PeftModel.from_pretrained(model, \"sql-code-llama/checkpoint-160\")"
   ]
  },
  {
   "cell_type": "code",
   "execution_count": null,
   "metadata": {},
   "outputs": [],
   "source": [
    "def generate_prompt(data_point):\n",
    "    full_prompt =f\"\"\"You are a powerful text-to-SQL model. Your job is to answer questions about a database. You are given a question and context regarding one or more tables. You must output the SQL query that answers the question.\n",
    "\n",
    "### Input:\n",
    "{data_point[\"question\"]}\n",
    "\n",
    "### Context:\n",
    "{data_point[\"context\"]}\n",
    "\n",
    "### Response:\n",
    "\"\"\"\n",
    "    return full_prompt"
   ]
  },
  {
   "cell_type": "code",
   "execution_count": null,
   "metadata": {},
   "outputs": [],
   "source": [
    "import json\n",
    "with open('spider_create_context_val_db_id.json', 'r') as f:\n",
    "    data = json.load(f)\n",
    "\n",
    "# Step 2: Apply the function to each entry\n",
    "# responses = map(your_function, data)\n",
    "prompts = []\n",
    "for data_point in data:\n",
    "    prompt = generate_prompt(data_point)\n",
    "    # append prompt to prompts\n",
    "    prompts.append(prompt)"
   ]
  },
  {
   "cell_type": "code",
   "execution_count": null,
   "metadata": {},
   "outputs": [],
   "source": [
    "tokenizer.pad_token = tokenizer.eos_token"
   ]
  },
  {
   "cell_type": "code",
   "execution_count": null,
   "metadata": {},
   "outputs": [],
   "source": [
    "batch_size = 12  # You can adjust the batch size based on your GPU capacity\n",
    "outputs = []\n",
    "\n",
    "model.eval()\n",
    "with torch.no_grad(), open('codellama7b-valoutputs2.txt', 'a') as f:\n",
    "    for i in range(0, len(prompts), batch_size):\n",
    "        print(\"i is: \", i)\n",
    "        batch_inputs = prompts[i:i+batch_size]\n",
    "        \n",
    "        # Step 3: Loop over the batches and generate the outputs\n",
    "        batch_model_inputs = tokenizer(batch_inputs, return_tensors=\"pt\", padding=True, truncation=True)\n",
    "        \n",
    "        input_lengths = [len(input_ids) for input_ids in batch_model_inputs[\"input_ids\"]]\n",
    "        \n",
    "        batch_outputs = model.generate(**batch_model_inputs, max_new_tokens=100)\n",
    "        \n",
    "        # Step 4: Collect the outputs\n",
    "        batch_decoded_outputs = [tokenizer.decode(output[input_length:], skip_special_tokens=True) for output, input_length in zip(batch_outputs, input_lengths)]\n",
    "        outputs.extend(batch_decoded_outputs)\n",
    "        print(outputs)\n",
    "        for b in batch_decoded_outputs:\n",
    "            f.write(b.replace(\"\\n\", \" \") + \"\\n\")\n",
    "        \n",
    "# Now, `outputs` is a list containing the outputs for all 900 inputs"
   ]
  }
 ],
 "metadata": {
  "kernelspec": {
   "display_name": "base",
   "language": "python",
   "name": "python3"
  },
  "language_info": {
   "codemirror_mode": {
    "name": "ipython",
    "version": 3
   },
   "file_extension": ".py",
   "mimetype": "text/x-python",
   "name": "python",
   "nbconvert_exporter": "python",
   "pygments_lexer": "ipython3",
   "version": "3.9.17"
  },
  "orig_nbformat": 4
 },
 "nbformat": 4,
 "nbformat_minor": 2
}
