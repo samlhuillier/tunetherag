{
 "cells": [
  {
   "cell_type": "code",
   "execution_count": null,
   "metadata": {},
   "outputs": [],
   "source": [
    "from embeddings.chroma_funcs import (\n",
    "    generate_knowledge_base_from_hf_dataset,\n",
    ")\n",
    "from chromadb.utils import embedding_functions\n",
    "from augment_dataset import augment_dataset_with_prompts"
   ]
  },
  {
   "cell_type": "code",
   "execution_count": null,
   "metadata": {},
   "outputs": [],
   "source": [
    "openai_ef = embedding_functions.OpenAIEmbeddingFunction(\n",
    "    model_name=\"text-embedding-ada-002\",\n",
    "    # api_key=\"\", # add api key if it's not set in your env\n",
    ")\n",
    "\n",
    "# default_ef = embedding_functions.DefaultEmbeddingFunction()"
   ]
  },
  {
   "cell_type": "code",
   "execution_count": null,
   "metadata": {},
   "outputs": [],
   "source": [
    "embedding_feature = \"question\"\n",
    "dataset_parameters = {\"dataset_name\": \"gsm8k\", \"config_name\": \"main\"}\n",
    "\n",
    "knowledge_base = generate_knowledge_base_from_hf_dataset(\n",
    "    dataset_parameters, embedding_feature, openai_ef\n",
    ")\n",
    "\n",
    "\n",
    "def format_math_example(example):\n",
    "    inference_prompt = f\"\"\"### Problem:\n",
    "{example[\"question\"]}\n",
    "\n",
    "### Answer:\"\"\"\n",
    "\n",
    "    full_prompt = f\"{inference_prompt}\\n{example['answer']}\"\n",
    "\n",
    "    return full_prompt, inference_prompt\n",
    "\n",
    "\n",
    "math_prompt = \"Solve the following math problem thinking step-by-step:\"\n",
    "\n",
    "augment_dataset_with_prompts(\n",
    "    dataset_parameters,\n",
    "    knowledge_base,\n",
    "    embedding_feature,\n",
    "    format_math_example,\n",
    "    math_prompt,\n",
    "    n_examples=1,\n",
    ")"
   ]
  },
  {
   "cell_type": "code",
   "execution_count": null,
   "metadata": {},
   "outputs": [],
   "source": [
    "embedding_feature = \"text\"\n",
    "dataset_parameters = {\n",
    "    \"dataset_name\": \"beniben0/small-chat-dataset\",\n",
    "    # \"config_name\": \"main\"\n",
    "}\n",
    "\n",
    "knowledge_base = generate_knowledge_base_from_hf_dataset(\n",
    "    dataset_parameters, embedding_feature, openai_ef\n",
    ")\n",
    "\n",
    "\n",
    "def format_chat_example(example):\n",
    "    inference_prompt = f\"\"\"### Chat:\"\"\"\n",
    "    full_prompt = f\"{inference_prompt}\\n{example['text']}\"\n",
    "    return full_prompt, inference_prompt\n",
    "\n",
    "\n",
    "chat_prompt = \"Generate the following:\"\n",
    "\n",
    "augment_dataset_with_prompts(\n",
    "    dataset_parameters,\n",
    "    knowledge_base,\n",
    "    embedding_feature,\n",
    "    format_chat_example,\n",
    "    chat_prompt,\n",
    "    n_examples=1,\n",
    ")"
   ]
  }
 ],
 "metadata": {
  "kernelspec": {
   "display_name": "base",
   "language": "python",
   "name": "python3"
  },
  "language_info": {
   "codemirror_mode": {
    "name": "ipython",
    "version": 3
   },
   "file_extension": ".py",
   "mimetype": "text/x-python",
   "name": "python",
   "nbconvert_exporter": "python",
   "pygments_lexer": "ipython3",
   "version": "3.10.13"
  },
  "orig_nbformat": 4
 },
 "nbformat": 4,
 "nbformat_minor": 2
}
